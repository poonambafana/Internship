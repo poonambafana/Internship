{
 "cells": [
  {
   "cell_type": "markdown",
   "metadata": {},
   "source": [
    "A Microfinance Institution (MFI) is an organization that offers financial services to low income populations. MFS becomes very useful when targeting especially the unbanked poor families living in remote areas with not much sources of income. The Microfinance services (MFS) provided by MFI are Group Loans, Agricultural Loans, Individual Business Loans and so on.<br> \n",
    "Many microfinance institutions (MFI), experts and donorsare supporting the idea of using mobile financial services (MFS) which they feel are more convenient and efficient, and cost saving, than the traditional high-touch model used since long for the purpose of delivering microfinance services. Though, the MFI industry is primarily focusing on low income families and are very useful in such areas, the implementation of MFShas been uneven with both significant challenges and successes.\n",
    "Today, microfinance is widely accepted as a poverty-reduction tool, representing $70 billion in outstanding loans and a global outreach of 200 million clients.<br>\n",
    "We are working with one such client that is in Telecom Industry. They are a fixed wireless telecommunications network provider. They have launched various products and have developed its business and organization based on the budget operator model, offering better products at Lower Prices to all value conscious customers through a strategy of disruptive innovation that focuses on the subscriber. <br>\n",
    "They understand the importance of communication and how it affects a person’s life, thus, focusing on providing their services and products to low income families and poor customers that can help them in the need of hour. <br>\n",
    "They arecollaborating with an MFI to provide micro-credit on mobile balances to be paid back in 5 days. The Consumer is believed to be defaulter if he deviates from the path of paying back the loaned amount within the time duration of 5 days. For the loan amount of 5 (in Indonesian Rupiah), payback amount should be6(in Indonesian Rupiah), while, for the loan amount of 10(in Indonesian Rupiah), the payback amount should be 12(in Indonesian Rupiah). <br>\n",
    "The sample data is provided to us from our client database. It is hereby given to you for this exercise. In order to improve the selection of customers for the credit, the client wants some predictions that could help them in further investment and improvement in selection of customers. \n"
   ]
  },
  {
   "cell_type": "markdown",
   "metadata": {},
   "source": [
    "##### Feature Description"
   ]
  },
  {
   "cell_type": "markdown",
   "metadata": {},
   "source": [
    "1. label :Flag indicating whether the user paid back the credit amount within 5 days of issuing the loan{1:success, 0:failure}\n",
    "2. msisdn :mobile number of user\n",
    "3. aon :age on cellular network in days\n",
    "4. daily_decr30 :Daily amount spent from main account, averaged over last 30 days (in Indonesian Rupiah)\n",
    "5. daily_decr90 :Daily amount spent from main account, averaged over last 90 days (in Indonesian Rupiah)\n",
    "6. rental30 :Average main account balance over last 30 days\n",
    "7. rental90 :Average main account balance over last 90 days\n",
    "8. last_rech_date_ma :Number of days till last recharge of main account\n",
    "9. last_rech_date_da : Number of days till last recharge of data account\n",
    "10. last_rech_amt_ma : Amount of last recharge of main account (in Indonesian Rupiah)\n",
    "11. cnt_ma_rech30 : Number of times main account got recharged in last 30 days\n",
    "12. fr_ma_rech30 : Frequency of main account recharged in last 30 days\n",
    "13. sumamnt_ma_rech30 : Total amount of recharge in main account over last 30 days (in Indonesian Rupiah)\n",
    "14. medianamnt_ma_rech30 : Median of amount of recharges done in main account over last 30 days at user level (in Indonesian Rupiah)\n",
    "15. medianmarechprebal30 : Median of main account balance just before recharge in last 30 days at user level (in Indonesian Rupiah)\n",
    "16. cnt_ma_rech90 : Number of times main account got recharged in last 90 days\n",
    "17. fr_ma_rech90 : Frequency of main account recharged in last 90 days\n",
    "18. sumamnt_ma_rech90: Total amount of recharge in main account over last 90 days (in Indian Rupee)\n",
    "19. medianamnt_ma_rech90 :Median of amount of recharges done in main account over last 90 days at user level (in Indian Rupee)\n",
    "20. medianmarechprebal90 : Median of main account balance just before recharge in last 90 days at user level (in Indian Rupee)\n",
    "21. cnt_da_rech30 : Number of times data account got recharged in last 30 days\n",
    "22. fr_da_rech30 : Frequency of data account recharged in last 30 days\n",
    "23. cnt_da_rech90 : Number of times data account got recharged in last 90 days\n",
    "24. fr_da_rech90 : Frequency of data account recharged in last 90 days\n",
    "25. cnt_loans30 : Number of loans taken by user in last 30 days\n",
    "26. amnt_loans30 : Total amount of loans taken by user in last 30 days\n",
    "27. maxamnt_loans30 : maximum amount of loan taken by the user in last 30 days\n",
    "28. medianamnt_loans30 : Median of amounts of loan taken by the user in last 30 days\n",
    "29. cnt_loans90: Number of loans taken by user in last 90 days\n",
    "30. amnt_loans90 :Total amount of loans taken by user in last 90 days\n",
    "31. maxamnt_loans90 : maximum amount of loan taken by the user in last 90 days\n",
    "32. medianamnt_loans90: Median of amounts of loan taken by the user in last 90 days\n",
    "33. payback30 :Average payback time in days over last 30 days\n",
    "34. payback90: Average payback time in days over last 90 days\n",
    "35. pcircle: telecom circle\n",
    "36. pdate :date"
   ]
  },
  {
   "cell_type": "markdown",
   "metadata": {},
   "source": [
    "## <a id=\"top\"></a>\n",
    "\n",
    "<div class=\"list-group\" id=\"list-tab\" role=\"tablist\">\n",
    "<h3 class=\"list-group-item list-group-item-action active\" data-toggle=\"list\" style='background:orange; border:0' role=\"tab\" aria-controls=\"home\"><center>Data Reading and Analysis</center></h3><a id=2></a>"
   ]
  },
  {
   "cell_type": "code",
   "execution_count": 1,
   "metadata": {},
   "outputs": [],
   "source": [
    "#importing libraries\n",
    "import pandas as pd\n",
    "import numpy as np\n",
    "import matplotlib.pyplot as plt\n",
    "import seaborn as sns"
   ]
  },
  {
   "cell_type": "code",
   "execution_count": 2,
   "metadata": {},
   "outputs": [
    {
     "data": {
      "text/html": [
       "<div>\n",
       "<style scoped>\n",
       "    .dataframe tbody tr th:only-of-type {\n",
       "        vertical-align: middle;\n",
       "    }\n",
       "\n",
       "    .dataframe tbody tr th {\n",
       "        vertical-align: top;\n",
       "    }\n",
       "\n",
       "    .dataframe thead th {\n",
       "        text-align: right;\n",
       "    }\n",
       "</style>\n",
       "<table border=\"1\" class=\"dataframe\">\n",
       "  <thead>\n",
       "    <tr style=\"text-align: right;\">\n",
       "      <th></th>\n",
       "      <th>Unnamed: 0</th>\n",
       "      <th>label</th>\n",
       "      <th>msisdn</th>\n",
       "      <th>aon</th>\n",
       "      <th>daily_decr30</th>\n",
       "      <th>daily_decr90</th>\n",
       "      <th>rental30</th>\n",
       "      <th>rental90</th>\n",
       "      <th>last_rech_date_ma</th>\n",
       "      <th>last_rech_date_da</th>\n",
       "      <th>...</th>\n",
       "      <th>maxamnt_loans30</th>\n",
       "      <th>medianamnt_loans30</th>\n",
       "      <th>cnt_loans90</th>\n",
       "      <th>amnt_loans90</th>\n",
       "      <th>maxamnt_loans90</th>\n",
       "      <th>medianamnt_loans90</th>\n",
       "      <th>payback30</th>\n",
       "      <th>payback90</th>\n",
       "      <th>pcircle</th>\n",
       "      <th>pdate</th>\n",
       "    </tr>\n",
       "  </thead>\n",
       "  <tbody>\n",
       "    <tr>\n",
       "      <th>0</th>\n",
       "      <td>1</td>\n",
       "      <td>0</td>\n",
       "      <td>21408I70789</td>\n",
       "      <td>272.0</td>\n",
       "      <td>3055.050000</td>\n",
       "      <td>3065.150000</td>\n",
       "      <td>220.13</td>\n",
       "      <td>260.13</td>\n",
       "      <td>2.0</td>\n",
       "      <td>0.0</td>\n",
       "      <td>...</td>\n",
       "      <td>6.0</td>\n",
       "      <td>0.0</td>\n",
       "      <td>2.0</td>\n",
       "      <td>12</td>\n",
       "      <td>6</td>\n",
       "      <td>0.0</td>\n",
       "      <td>29.000000</td>\n",
       "      <td>29.000000</td>\n",
       "      <td>UPW</td>\n",
       "      <td>2016-07-20</td>\n",
       "    </tr>\n",
       "    <tr>\n",
       "      <th>1</th>\n",
       "      <td>2</td>\n",
       "      <td>1</td>\n",
       "      <td>76462I70374</td>\n",
       "      <td>712.0</td>\n",
       "      <td>12122.000000</td>\n",
       "      <td>12124.750000</td>\n",
       "      <td>3691.26</td>\n",
       "      <td>3691.26</td>\n",
       "      <td>20.0</td>\n",
       "      <td>0.0</td>\n",
       "      <td>...</td>\n",
       "      <td>12.0</td>\n",
       "      <td>0.0</td>\n",
       "      <td>1.0</td>\n",
       "      <td>12</td>\n",
       "      <td>12</td>\n",
       "      <td>0.0</td>\n",
       "      <td>0.000000</td>\n",
       "      <td>0.000000</td>\n",
       "      <td>UPW</td>\n",
       "      <td>2016-08-10</td>\n",
       "    </tr>\n",
       "    <tr>\n",
       "      <th>2</th>\n",
       "      <td>3</td>\n",
       "      <td>1</td>\n",
       "      <td>17943I70372</td>\n",
       "      <td>535.0</td>\n",
       "      <td>1398.000000</td>\n",
       "      <td>1398.000000</td>\n",
       "      <td>900.13</td>\n",
       "      <td>900.13</td>\n",
       "      <td>3.0</td>\n",
       "      <td>0.0</td>\n",
       "      <td>...</td>\n",
       "      <td>6.0</td>\n",
       "      <td>0.0</td>\n",
       "      <td>1.0</td>\n",
       "      <td>6</td>\n",
       "      <td>6</td>\n",
       "      <td>0.0</td>\n",
       "      <td>0.000000</td>\n",
       "      <td>0.000000</td>\n",
       "      <td>UPW</td>\n",
       "      <td>2016-08-19</td>\n",
       "    </tr>\n",
       "    <tr>\n",
       "      <th>3</th>\n",
       "      <td>4</td>\n",
       "      <td>1</td>\n",
       "      <td>55773I70781</td>\n",
       "      <td>241.0</td>\n",
       "      <td>21.228000</td>\n",
       "      <td>21.228000</td>\n",
       "      <td>159.42</td>\n",
       "      <td>159.42</td>\n",
       "      <td>41.0</td>\n",
       "      <td>0.0</td>\n",
       "      <td>...</td>\n",
       "      <td>6.0</td>\n",
       "      <td>0.0</td>\n",
       "      <td>2.0</td>\n",
       "      <td>12</td>\n",
       "      <td>6</td>\n",
       "      <td>0.0</td>\n",
       "      <td>0.000000</td>\n",
       "      <td>0.000000</td>\n",
       "      <td>UPW</td>\n",
       "      <td>2016-06-06</td>\n",
       "    </tr>\n",
       "    <tr>\n",
       "      <th>4</th>\n",
       "      <td>5</td>\n",
       "      <td>1</td>\n",
       "      <td>03813I82730</td>\n",
       "      <td>947.0</td>\n",
       "      <td>150.619333</td>\n",
       "      <td>150.619333</td>\n",
       "      <td>1098.90</td>\n",
       "      <td>1098.90</td>\n",
       "      <td>4.0</td>\n",
       "      <td>0.0</td>\n",
       "      <td>...</td>\n",
       "      <td>6.0</td>\n",
       "      <td>0.0</td>\n",
       "      <td>7.0</td>\n",
       "      <td>42</td>\n",
       "      <td>6</td>\n",
       "      <td>0.0</td>\n",
       "      <td>2.333333</td>\n",
       "      <td>2.333333</td>\n",
       "      <td>UPW</td>\n",
       "      <td>2016-06-22</td>\n",
       "    </tr>\n",
       "  </tbody>\n",
       "</table>\n",
       "<p>5 rows × 37 columns</p>\n",
       "</div>"
      ],
      "text/plain": [
       "   Unnamed: 0  label       msisdn    aon  daily_decr30  daily_decr90  \\\n",
       "0           1      0  21408I70789  272.0   3055.050000   3065.150000   \n",
       "1           2      1  76462I70374  712.0  12122.000000  12124.750000   \n",
       "2           3      1  17943I70372  535.0   1398.000000   1398.000000   \n",
       "3           4      1  55773I70781  241.0     21.228000     21.228000   \n",
       "4           5      1  03813I82730  947.0    150.619333    150.619333   \n",
       "\n",
       "   rental30  rental90  last_rech_date_ma  last_rech_date_da  ...  \\\n",
       "0    220.13    260.13                2.0                0.0  ...   \n",
       "1   3691.26   3691.26               20.0                0.0  ...   \n",
       "2    900.13    900.13                3.0                0.0  ...   \n",
       "3    159.42    159.42               41.0                0.0  ...   \n",
       "4   1098.90   1098.90                4.0                0.0  ...   \n",
       "\n",
       "   maxamnt_loans30  medianamnt_loans30  cnt_loans90  amnt_loans90  \\\n",
       "0              6.0                 0.0          2.0            12   \n",
       "1             12.0                 0.0          1.0            12   \n",
       "2              6.0                 0.0          1.0             6   \n",
       "3              6.0                 0.0          2.0            12   \n",
       "4              6.0                 0.0          7.0            42   \n",
       "\n",
       "   maxamnt_loans90  medianamnt_loans90  payback30  payback90  pcircle  \\\n",
       "0                6                 0.0  29.000000  29.000000      UPW   \n",
       "1               12                 0.0   0.000000   0.000000      UPW   \n",
       "2                6                 0.0   0.000000   0.000000      UPW   \n",
       "3                6                 0.0   0.000000   0.000000      UPW   \n",
       "4                6                 0.0   2.333333   2.333333      UPW   \n",
       "\n",
       "        pdate  \n",
       "0  2016-07-20  \n",
       "1  2016-08-10  \n",
       "2  2016-08-19  \n",
       "3  2016-06-06  \n",
       "4  2016-06-22  \n",
       "\n",
       "[5 rows x 37 columns]"
      ]
     },
     "execution_count": 2,
     "metadata": {},
     "output_type": "execute_result"
    }
   ],
   "source": [
    "#Reading data \n",
    "df=pd.read_csv('micro_credit.csv')\n",
    "df.head()"
   ]
  },
  {
   "cell_type": "code",
   "execution_count": 3,
   "metadata": {},
   "outputs": [],
   "source": [
    "df.drop('Unnamed: 0',axis=1,inplace=True)"
   ]
  },
  {
   "cell_type": "code",
   "execution_count": 4,
   "metadata": {},
   "outputs": [
    {
     "data": {
      "text/html": [
       "<div>\n",
       "<style scoped>\n",
       "    .dataframe tbody tr th:only-of-type {\n",
       "        vertical-align: middle;\n",
       "    }\n",
       "\n",
       "    .dataframe tbody tr th {\n",
       "        vertical-align: top;\n",
       "    }\n",
       "\n",
       "    .dataframe thead th {\n",
       "        text-align: right;\n",
       "    }\n",
       "</style>\n",
       "<table border=\"1\" class=\"dataframe\">\n",
       "  <thead>\n",
       "    <tr style=\"text-align: right;\">\n",
       "      <th></th>\n",
       "      <th>label</th>\n",
       "      <th>msisdn</th>\n",
       "      <th>aon</th>\n",
       "      <th>daily_decr30</th>\n",
       "      <th>daily_decr90</th>\n",
       "      <th>rental30</th>\n",
       "      <th>rental90</th>\n",
       "      <th>last_rech_date_ma</th>\n",
       "      <th>last_rech_date_da</th>\n",
       "      <th>last_rech_amt_ma</th>\n",
       "      <th>...</th>\n",
       "      <th>maxamnt_loans30</th>\n",
       "      <th>medianamnt_loans30</th>\n",
       "      <th>cnt_loans90</th>\n",
       "      <th>amnt_loans90</th>\n",
       "      <th>maxamnt_loans90</th>\n",
       "      <th>medianamnt_loans90</th>\n",
       "      <th>payback30</th>\n",
       "      <th>payback90</th>\n",
       "      <th>pcircle</th>\n",
       "      <th>pdate</th>\n",
       "    </tr>\n",
       "  </thead>\n",
       "  <tbody>\n",
       "    <tr>\n",
       "      <th>0</th>\n",
       "      <td>0</td>\n",
       "      <td>21408I70789</td>\n",
       "      <td>272.0</td>\n",
       "      <td>3055.050000</td>\n",
       "      <td>3065.150000</td>\n",
       "      <td>220.13</td>\n",
       "      <td>260.13</td>\n",
       "      <td>2.0</td>\n",
       "      <td>0.0</td>\n",
       "      <td>1539</td>\n",
       "      <td>...</td>\n",
       "      <td>6.0</td>\n",
       "      <td>0.0</td>\n",
       "      <td>2.0</td>\n",
       "      <td>12</td>\n",
       "      <td>6</td>\n",
       "      <td>0.0</td>\n",
       "      <td>29.000000</td>\n",
       "      <td>29.000000</td>\n",
       "      <td>UPW</td>\n",
       "      <td>2016-07-20</td>\n",
       "    </tr>\n",
       "    <tr>\n",
       "      <th>1</th>\n",
       "      <td>1</td>\n",
       "      <td>76462I70374</td>\n",
       "      <td>712.0</td>\n",
       "      <td>12122.000000</td>\n",
       "      <td>12124.750000</td>\n",
       "      <td>3691.26</td>\n",
       "      <td>3691.26</td>\n",
       "      <td>20.0</td>\n",
       "      <td>0.0</td>\n",
       "      <td>5787</td>\n",
       "      <td>...</td>\n",
       "      <td>12.0</td>\n",
       "      <td>0.0</td>\n",
       "      <td>1.0</td>\n",
       "      <td>12</td>\n",
       "      <td>12</td>\n",
       "      <td>0.0</td>\n",
       "      <td>0.000000</td>\n",
       "      <td>0.000000</td>\n",
       "      <td>UPW</td>\n",
       "      <td>2016-08-10</td>\n",
       "    </tr>\n",
       "    <tr>\n",
       "      <th>2</th>\n",
       "      <td>1</td>\n",
       "      <td>17943I70372</td>\n",
       "      <td>535.0</td>\n",
       "      <td>1398.000000</td>\n",
       "      <td>1398.000000</td>\n",
       "      <td>900.13</td>\n",
       "      <td>900.13</td>\n",
       "      <td>3.0</td>\n",
       "      <td>0.0</td>\n",
       "      <td>1539</td>\n",
       "      <td>...</td>\n",
       "      <td>6.0</td>\n",
       "      <td>0.0</td>\n",
       "      <td>1.0</td>\n",
       "      <td>6</td>\n",
       "      <td>6</td>\n",
       "      <td>0.0</td>\n",
       "      <td>0.000000</td>\n",
       "      <td>0.000000</td>\n",
       "      <td>UPW</td>\n",
       "      <td>2016-08-19</td>\n",
       "    </tr>\n",
       "    <tr>\n",
       "      <th>3</th>\n",
       "      <td>1</td>\n",
       "      <td>55773I70781</td>\n",
       "      <td>241.0</td>\n",
       "      <td>21.228000</td>\n",
       "      <td>21.228000</td>\n",
       "      <td>159.42</td>\n",
       "      <td>159.42</td>\n",
       "      <td>41.0</td>\n",
       "      <td>0.0</td>\n",
       "      <td>947</td>\n",
       "      <td>...</td>\n",
       "      <td>6.0</td>\n",
       "      <td>0.0</td>\n",
       "      <td>2.0</td>\n",
       "      <td>12</td>\n",
       "      <td>6</td>\n",
       "      <td>0.0</td>\n",
       "      <td>0.000000</td>\n",
       "      <td>0.000000</td>\n",
       "      <td>UPW</td>\n",
       "      <td>2016-06-06</td>\n",
       "    </tr>\n",
       "    <tr>\n",
       "      <th>4</th>\n",
       "      <td>1</td>\n",
       "      <td>03813I82730</td>\n",
       "      <td>947.0</td>\n",
       "      <td>150.619333</td>\n",
       "      <td>150.619333</td>\n",
       "      <td>1098.90</td>\n",
       "      <td>1098.90</td>\n",
       "      <td>4.0</td>\n",
       "      <td>0.0</td>\n",
       "      <td>2309</td>\n",
       "      <td>...</td>\n",
       "      <td>6.0</td>\n",
       "      <td>0.0</td>\n",
       "      <td>7.0</td>\n",
       "      <td>42</td>\n",
       "      <td>6</td>\n",
       "      <td>0.0</td>\n",
       "      <td>2.333333</td>\n",
       "      <td>2.333333</td>\n",
       "      <td>UPW</td>\n",
       "      <td>2016-06-22</td>\n",
       "    </tr>\n",
       "  </tbody>\n",
       "</table>\n",
       "<p>5 rows × 36 columns</p>\n",
       "</div>"
      ],
      "text/plain": [
       "   label       msisdn    aon  daily_decr30  daily_decr90  rental30  rental90  \\\n",
       "0      0  21408I70789  272.0   3055.050000   3065.150000    220.13    260.13   \n",
       "1      1  76462I70374  712.0  12122.000000  12124.750000   3691.26   3691.26   \n",
       "2      1  17943I70372  535.0   1398.000000   1398.000000    900.13    900.13   \n",
       "3      1  55773I70781  241.0     21.228000     21.228000    159.42    159.42   \n",
       "4      1  03813I82730  947.0    150.619333    150.619333   1098.90   1098.90   \n",
       "\n",
       "   last_rech_date_ma  last_rech_date_da  last_rech_amt_ma  ...  \\\n",
       "0                2.0                0.0              1539  ...   \n",
       "1               20.0                0.0              5787  ...   \n",
       "2                3.0                0.0              1539  ...   \n",
       "3               41.0                0.0               947  ...   \n",
       "4                4.0                0.0              2309  ...   \n",
       "\n",
       "   maxamnt_loans30  medianamnt_loans30  cnt_loans90  amnt_loans90  \\\n",
       "0              6.0                 0.0          2.0            12   \n",
       "1             12.0                 0.0          1.0            12   \n",
       "2              6.0                 0.0          1.0             6   \n",
       "3              6.0                 0.0          2.0            12   \n",
       "4              6.0                 0.0          7.0            42   \n",
       "\n",
       "   maxamnt_loans90  medianamnt_loans90  payback30  payback90  pcircle  \\\n",
       "0                6                 0.0  29.000000  29.000000      UPW   \n",
       "1               12                 0.0   0.000000   0.000000      UPW   \n",
       "2                6                 0.0   0.000000   0.000000      UPW   \n",
       "3                6                 0.0   0.000000   0.000000      UPW   \n",
       "4                6                 0.0   2.333333   2.333333      UPW   \n",
       "\n",
       "        pdate  \n",
       "0  2016-07-20  \n",
       "1  2016-08-10  \n",
       "2  2016-08-19  \n",
       "3  2016-06-06  \n",
       "4  2016-06-22  \n",
       "\n",
       "[5 rows x 36 columns]"
      ]
     },
     "execution_count": 4,
     "metadata": {},
     "output_type": "execute_result"
    }
   ],
   "source": [
    "df.head()"
   ]
  },
  {
   "cell_type": "code",
   "execution_count": 5,
   "metadata": {},
   "outputs": [
    {
     "name": "stdout",
     "output_type": "stream",
     "text": [
      "<class 'pandas.core.frame.DataFrame'>\n",
      "RangeIndex: 209593 entries, 0 to 209592\n",
      "Data columns (total 36 columns):\n",
      " #   Column                Non-Null Count   Dtype  \n",
      "---  ------                --------------   -----  \n",
      " 0   label                 209593 non-null  int64  \n",
      " 1   msisdn                209593 non-null  object \n",
      " 2   aon                   209593 non-null  float64\n",
      " 3   daily_decr30          209593 non-null  float64\n",
      " 4   daily_decr90          209593 non-null  float64\n",
      " 5   rental30              209593 non-null  float64\n",
      " 6   rental90              209593 non-null  float64\n",
      " 7   last_rech_date_ma     209593 non-null  float64\n",
      " 8   last_rech_date_da     209593 non-null  float64\n",
      " 9   last_rech_amt_ma      209593 non-null  int64  \n",
      " 10  cnt_ma_rech30         209593 non-null  int64  \n",
      " 11  fr_ma_rech30          209593 non-null  float64\n",
      " 12  sumamnt_ma_rech30     209593 non-null  float64\n",
      " 13  medianamnt_ma_rech30  209593 non-null  float64\n",
      " 14  medianmarechprebal30  209593 non-null  float64\n",
      " 15  cnt_ma_rech90         209593 non-null  int64  \n",
      " 16  fr_ma_rech90          209593 non-null  int64  \n",
      " 17  sumamnt_ma_rech90     209593 non-null  int64  \n",
      " 18  medianamnt_ma_rech90  209593 non-null  float64\n",
      " 19  medianmarechprebal90  209593 non-null  float64\n",
      " 20  cnt_da_rech30         209593 non-null  float64\n",
      " 21  fr_da_rech30          209593 non-null  float64\n",
      " 22  cnt_da_rech90         209593 non-null  int64  \n",
      " 23  fr_da_rech90          209593 non-null  int64  \n",
      " 24  cnt_loans30           209593 non-null  int64  \n",
      " 25  amnt_loans30          209593 non-null  int64  \n",
      " 26  maxamnt_loans30       209593 non-null  float64\n",
      " 27  medianamnt_loans30    209593 non-null  float64\n",
      " 28  cnt_loans90           209593 non-null  float64\n",
      " 29  amnt_loans90          209593 non-null  int64  \n",
      " 30  maxamnt_loans90       209593 non-null  int64  \n",
      " 31  medianamnt_loans90    209593 non-null  float64\n",
      " 32  payback30             209593 non-null  float64\n",
      " 33  payback90             209593 non-null  float64\n",
      " 34  pcircle               209593 non-null  object \n",
      " 35  pdate                 209593 non-null  object \n",
      "dtypes: float64(21), int64(12), object(3)\n",
      "memory usage: 57.6+ MB\n"
     ]
    }
   ],
   "source": [
    "#let's dive into depth \n",
    "df.info()"
   ]
  },
  {
   "cell_type": "markdown",
   "metadata": {},
   "source": [
    "-> From here we can observe that there is three object type attributes are there .They are msisdn,pcircle,pdate"
   ]
  },
  {
   "cell_type": "code",
   "execution_count": 6,
   "metadata": {},
   "outputs": [
    {
     "data": {
      "text/plain": [
       "label                   0\n",
       "msisdn                  0\n",
       "aon                     0\n",
       "daily_decr30            0\n",
       "daily_decr90            0\n",
       "rental30                0\n",
       "rental90                0\n",
       "last_rech_date_ma       0\n",
       "last_rech_date_da       0\n",
       "last_rech_amt_ma        0\n",
       "cnt_ma_rech30           0\n",
       "fr_ma_rech30            0\n",
       "sumamnt_ma_rech30       0\n",
       "medianamnt_ma_rech30    0\n",
       "medianmarechprebal30    0\n",
       "cnt_ma_rech90           0\n",
       "fr_ma_rech90            0\n",
       "sumamnt_ma_rech90       0\n",
       "medianamnt_ma_rech90    0\n",
       "medianmarechprebal90    0\n",
       "cnt_da_rech30           0\n",
       "fr_da_rech30            0\n",
       "cnt_da_rech90           0\n",
       "fr_da_rech90            0\n",
       "cnt_loans30             0\n",
       "amnt_loans30            0\n",
       "maxamnt_loans30         0\n",
       "medianamnt_loans30      0\n",
       "cnt_loans90             0\n",
       "amnt_loans90            0\n",
       "maxamnt_loans90         0\n",
       "medianamnt_loans90      0\n",
       "payback30               0\n",
       "payback90               0\n",
       "pcircle                 0\n",
       "pdate                   0\n",
       "dtype: int64"
      ]
     },
     "execution_count": 6,
     "metadata": {},
     "output_type": "execute_result"
    }
   ],
   "source": [
    "# let's check null values \n",
    "df.isnull().sum()"
   ]
  },
  {
   "cell_type": "markdown",
   "metadata": {},
   "source": [
    "  It's looking perfect there is no null or missing values in this data set"
   ]
  },
  {
   "cell_type": "code",
   "execution_count": 7,
   "metadata": {},
   "outputs": [
    {
     "name": "stdout",
     "output_type": "stream",
     "text": [
      "shape of data set is  (209593, 36)\n"
     ]
    }
   ],
   "source": [
    "print(\"shape of data set is \",df.shape)"
   ]
  },
  {
   "cell_type": "markdown",
   "metadata": {},
   "source": [
    "<a id=\"top\"></a>\n",
    "\n",
    "<div class=\"list-group\" id=\"list-tab\" role=\"tablist\">\n",
    "<h3 class=\"list-group-item list-group-item-action active\" data-toggle=\"list\" style='background:orange; border:0' role=\"tab\" aria-controls=\"home\"><center>Data Preprocessing</center><a id=3></a></h3>"
   ]
  },
  {
   "cell_type": "markdown",
   "metadata": {},
   "source": [
    "### 1. Remove columns where number of unique value is only 1.\n",
    "Let's look at no of unique values for each column.We will remove all columns where number of unique value is only 1 because that will not make any sense in the analysis"
   ]
  },
  {
   "cell_type": "code",
   "execution_count": 8,
   "metadata": {},
   "outputs": [],
   "source": [
    "unique = df.nunique()\n",
    "unique = unique[unique.values == 1]"
   ]
  },
  {
   "cell_type": "code",
   "execution_count": 9,
   "metadata": {},
   "outputs": [
    {
     "name": "stdout",
     "output_type": "stream",
     "text": [
      "So now we are left with (209593, 35) rows & columns.\n"
     ]
    }
   ],
   "source": [
    "df.drop(labels = list(unique.index), axis =1, inplace=True)\n",
    "print(\"So now we are left with\",df.shape ,\"rows & columns.\")"
   ]
  },
  {
   "cell_type": "code",
   "execution_count": 10,
   "metadata": {},
   "outputs": [
    {
     "data": {
      "text/html": [
       "<div>\n",
       "<style scoped>\n",
       "    .dataframe tbody tr th:only-of-type {\n",
       "        vertical-align: middle;\n",
       "    }\n",
       "\n",
       "    .dataframe tbody tr th {\n",
       "        vertical-align: top;\n",
       "    }\n",
       "\n",
       "    .dataframe thead th {\n",
       "        text-align: right;\n",
       "    }\n",
       "</style>\n",
       "<table border=\"1\" class=\"dataframe\">\n",
       "  <thead>\n",
       "    <tr style=\"text-align: right;\">\n",
       "      <th></th>\n",
       "      <th>label</th>\n",
       "      <th>msisdn</th>\n",
       "      <th>aon</th>\n",
       "      <th>daily_decr30</th>\n",
       "      <th>daily_decr90</th>\n",
       "      <th>rental30</th>\n",
       "      <th>rental90</th>\n",
       "      <th>last_rech_date_ma</th>\n",
       "      <th>last_rech_date_da</th>\n",
       "      <th>last_rech_amt_ma</th>\n",
       "      <th>...</th>\n",
       "      <th>amnt_loans30</th>\n",
       "      <th>maxamnt_loans30</th>\n",
       "      <th>medianamnt_loans30</th>\n",
       "      <th>cnt_loans90</th>\n",
       "      <th>amnt_loans90</th>\n",
       "      <th>maxamnt_loans90</th>\n",
       "      <th>medianamnt_loans90</th>\n",
       "      <th>payback30</th>\n",
       "      <th>payback90</th>\n",
       "      <th>pdate</th>\n",
       "    </tr>\n",
       "  </thead>\n",
       "  <tbody>\n",
       "    <tr>\n",
       "      <th>0</th>\n",
       "      <td>0</td>\n",
       "      <td>21408I70789</td>\n",
       "      <td>272.0</td>\n",
       "      <td>3055.050000</td>\n",
       "      <td>3065.150000</td>\n",
       "      <td>220.13</td>\n",
       "      <td>260.13</td>\n",
       "      <td>2.0</td>\n",
       "      <td>0.0</td>\n",
       "      <td>1539</td>\n",
       "      <td>...</td>\n",
       "      <td>12</td>\n",
       "      <td>6.0</td>\n",
       "      <td>0.0</td>\n",
       "      <td>2.0</td>\n",
       "      <td>12</td>\n",
       "      <td>6</td>\n",
       "      <td>0.0</td>\n",
       "      <td>29.000000</td>\n",
       "      <td>29.000000</td>\n",
       "      <td>2016-07-20</td>\n",
       "    </tr>\n",
       "    <tr>\n",
       "      <th>1</th>\n",
       "      <td>1</td>\n",
       "      <td>76462I70374</td>\n",
       "      <td>712.0</td>\n",
       "      <td>12122.000000</td>\n",
       "      <td>12124.750000</td>\n",
       "      <td>3691.26</td>\n",
       "      <td>3691.26</td>\n",
       "      <td>20.0</td>\n",
       "      <td>0.0</td>\n",
       "      <td>5787</td>\n",
       "      <td>...</td>\n",
       "      <td>12</td>\n",
       "      <td>12.0</td>\n",
       "      <td>0.0</td>\n",
       "      <td>1.0</td>\n",
       "      <td>12</td>\n",
       "      <td>12</td>\n",
       "      <td>0.0</td>\n",
       "      <td>0.000000</td>\n",
       "      <td>0.000000</td>\n",
       "      <td>2016-08-10</td>\n",
       "    </tr>\n",
       "    <tr>\n",
       "      <th>2</th>\n",
       "      <td>1</td>\n",
       "      <td>17943I70372</td>\n",
       "      <td>535.0</td>\n",
       "      <td>1398.000000</td>\n",
       "      <td>1398.000000</td>\n",
       "      <td>900.13</td>\n",
       "      <td>900.13</td>\n",
       "      <td>3.0</td>\n",
       "      <td>0.0</td>\n",
       "      <td>1539</td>\n",
       "      <td>...</td>\n",
       "      <td>6</td>\n",
       "      <td>6.0</td>\n",
       "      <td>0.0</td>\n",
       "      <td>1.0</td>\n",
       "      <td>6</td>\n",
       "      <td>6</td>\n",
       "      <td>0.0</td>\n",
       "      <td>0.000000</td>\n",
       "      <td>0.000000</td>\n",
       "      <td>2016-08-19</td>\n",
       "    </tr>\n",
       "    <tr>\n",
       "      <th>3</th>\n",
       "      <td>1</td>\n",
       "      <td>55773I70781</td>\n",
       "      <td>241.0</td>\n",
       "      <td>21.228000</td>\n",
       "      <td>21.228000</td>\n",
       "      <td>159.42</td>\n",
       "      <td>159.42</td>\n",
       "      <td>41.0</td>\n",
       "      <td>0.0</td>\n",
       "      <td>947</td>\n",
       "      <td>...</td>\n",
       "      <td>12</td>\n",
       "      <td>6.0</td>\n",
       "      <td>0.0</td>\n",
       "      <td>2.0</td>\n",
       "      <td>12</td>\n",
       "      <td>6</td>\n",
       "      <td>0.0</td>\n",
       "      <td>0.000000</td>\n",
       "      <td>0.000000</td>\n",
       "      <td>2016-06-06</td>\n",
       "    </tr>\n",
       "    <tr>\n",
       "      <th>4</th>\n",
       "      <td>1</td>\n",
       "      <td>03813I82730</td>\n",
       "      <td>947.0</td>\n",
       "      <td>150.619333</td>\n",
       "      <td>150.619333</td>\n",
       "      <td>1098.90</td>\n",
       "      <td>1098.90</td>\n",
       "      <td>4.0</td>\n",
       "      <td>0.0</td>\n",
       "      <td>2309</td>\n",
       "      <td>...</td>\n",
       "      <td>42</td>\n",
       "      <td>6.0</td>\n",
       "      <td>0.0</td>\n",
       "      <td>7.0</td>\n",
       "      <td>42</td>\n",
       "      <td>6</td>\n",
       "      <td>0.0</td>\n",
       "      <td>2.333333</td>\n",
       "      <td>2.333333</td>\n",
       "      <td>2016-06-22</td>\n",
       "    </tr>\n",
       "  </tbody>\n",
       "</table>\n",
       "<p>5 rows × 35 columns</p>\n",
       "</div>"
      ],
      "text/plain": [
       "   label       msisdn    aon  daily_decr30  daily_decr90  rental30  rental90  \\\n",
       "0      0  21408I70789  272.0   3055.050000   3065.150000    220.13    260.13   \n",
       "1      1  76462I70374  712.0  12122.000000  12124.750000   3691.26   3691.26   \n",
       "2      1  17943I70372  535.0   1398.000000   1398.000000    900.13    900.13   \n",
       "3      1  55773I70781  241.0     21.228000     21.228000    159.42    159.42   \n",
       "4      1  03813I82730  947.0    150.619333    150.619333   1098.90   1098.90   \n",
       "\n",
       "   last_rech_date_ma  last_rech_date_da  last_rech_amt_ma  ...  amnt_loans30  \\\n",
       "0                2.0                0.0              1539  ...            12   \n",
       "1               20.0                0.0              5787  ...            12   \n",
       "2                3.0                0.0              1539  ...             6   \n",
       "3               41.0                0.0               947  ...            12   \n",
       "4                4.0                0.0              2309  ...            42   \n",
       "\n",
       "   maxamnt_loans30  medianamnt_loans30  cnt_loans90  amnt_loans90  \\\n",
       "0              6.0                 0.0          2.0            12   \n",
       "1             12.0                 0.0          1.0            12   \n",
       "2              6.0                 0.0          1.0             6   \n",
       "3              6.0                 0.0          2.0            12   \n",
       "4              6.0                 0.0          7.0            42   \n",
       "\n",
       "   maxamnt_loans90  medianamnt_loans90  payback30  payback90       pdate  \n",
       "0                6                 0.0  29.000000  29.000000  2016-07-20  \n",
       "1               12                 0.0   0.000000   0.000000  2016-08-10  \n",
       "2                6                 0.0   0.000000   0.000000  2016-08-19  \n",
       "3                6                 0.0   0.000000   0.000000  2016-06-06  \n",
       "4                6                 0.0   2.333333   2.333333  2016-06-22  \n",
       "\n",
       "[5 rows x 35 columns]"
      ]
     },
     "execution_count": 10,
     "metadata": {},
     "output_type": "execute_result"
    }
   ],
   "source": [
    "df.head()"
   ]
  },
  {
   "cell_type": "code",
   "execution_count": 11,
   "metadata": {},
   "outputs": [
    {
     "data": {
      "text/html": [
       "<div>\n",
       "<style scoped>\n",
       "    .dataframe tbody tr th:only-of-type {\n",
       "        vertical-align: middle;\n",
       "    }\n",
       "\n",
       "    .dataframe tbody tr th {\n",
       "        vertical-align: top;\n",
       "    }\n",
       "\n",
       "    .dataframe thead th {\n",
       "        text-align: right;\n",
       "    }\n",
       "</style>\n",
       "<table border=\"1\" class=\"dataframe\">\n",
       "  <thead>\n",
       "    <tr style=\"text-align: right;\">\n",
       "      <th></th>\n",
       "      <th>count</th>\n",
       "      <th>mean</th>\n",
       "      <th>std</th>\n",
       "      <th>min</th>\n",
       "      <th>25%</th>\n",
       "      <th>50%</th>\n",
       "      <th>75%</th>\n",
       "      <th>max</th>\n",
       "    </tr>\n",
       "  </thead>\n",
       "  <tbody>\n",
       "    <tr>\n",
       "      <th>label</th>\n",
       "      <td>209593.0</td>\n",
       "      <td>0.875177</td>\n",
       "      <td>0.330519</td>\n",
       "      <td>0.000000</td>\n",
       "      <td>1.000</td>\n",
       "      <td>1.000000</td>\n",
       "      <td>1.00</td>\n",
       "      <td>1.000000</td>\n",
       "    </tr>\n",
       "    <tr>\n",
       "      <th>aon</th>\n",
       "      <td>209593.0</td>\n",
       "      <td>8112.343445</td>\n",
       "      <td>75696.082531</td>\n",
       "      <td>-48.000000</td>\n",
       "      <td>246.000</td>\n",
       "      <td>527.000000</td>\n",
       "      <td>982.00</td>\n",
       "      <td>999860.755168</td>\n",
       "    </tr>\n",
       "    <tr>\n",
       "      <th>daily_decr30</th>\n",
       "      <td>209593.0</td>\n",
       "      <td>5381.402289</td>\n",
       "      <td>9220.623400</td>\n",
       "      <td>-93.012667</td>\n",
       "      <td>42.440</td>\n",
       "      <td>1469.175667</td>\n",
       "      <td>7244.00</td>\n",
       "      <td>265926.000000</td>\n",
       "    </tr>\n",
       "    <tr>\n",
       "      <th>daily_decr90</th>\n",
       "      <td>209593.0</td>\n",
       "      <td>6082.515068</td>\n",
       "      <td>10918.812767</td>\n",
       "      <td>-93.012667</td>\n",
       "      <td>42.692</td>\n",
       "      <td>1500.000000</td>\n",
       "      <td>7802.79</td>\n",
       "      <td>320630.000000</td>\n",
       "    </tr>\n",
       "    <tr>\n",
       "      <th>rental30</th>\n",
       "      <td>209593.0</td>\n",
       "      <td>2692.581910</td>\n",
       "      <td>4308.586781</td>\n",
       "      <td>-23737.140000</td>\n",
       "      <td>280.420</td>\n",
       "      <td>1083.570000</td>\n",
       "      <td>3356.94</td>\n",
       "      <td>198926.110000</td>\n",
       "    </tr>\n",
       "    <tr>\n",
       "      <th>rental90</th>\n",
       "      <td>209593.0</td>\n",
       "      <td>3483.406534</td>\n",
       "      <td>5770.461279</td>\n",
       "      <td>-24720.580000</td>\n",
       "      <td>300.260</td>\n",
       "      <td>1334.000000</td>\n",
       "      <td>4201.79</td>\n",
       "      <td>200148.110000</td>\n",
       "    </tr>\n",
       "    <tr>\n",
       "      <th>last_rech_date_ma</th>\n",
       "      <td>209593.0</td>\n",
       "      <td>3755.847800</td>\n",
       "      <td>53905.892230</td>\n",
       "      <td>-29.000000</td>\n",
       "      <td>1.000</td>\n",
       "      <td>3.000000</td>\n",
       "      <td>7.00</td>\n",
       "      <td>998650.377733</td>\n",
       "    </tr>\n",
       "    <tr>\n",
       "      <th>last_rech_date_da</th>\n",
       "      <td>209593.0</td>\n",
       "      <td>3712.202921</td>\n",
       "      <td>53374.833430</td>\n",
       "      <td>-29.000000</td>\n",
       "      <td>0.000</td>\n",
       "      <td>0.000000</td>\n",
       "      <td>0.00</td>\n",
       "      <td>999171.809410</td>\n",
       "    </tr>\n",
       "    <tr>\n",
       "      <th>last_rech_amt_ma</th>\n",
       "      <td>209593.0</td>\n",
       "      <td>2064.452797</td>\n",
       "      <td>2370.786034</td>\n",
       "      <td>0.000000</td>\n",
       "      <td>770.000</td>\n",
       "      <td>1539.000000</td>\n",
       "      <td>2309.00</td>\n",
       "      <td>55000.000000</td>\n",
       "    </tr>\n",
       "    <tr>\n",
       "      <th>cnt_ma_rech30</th>\n",
       "      <td>209593.0</td>\n",
       "      <td>3.978057</td>\n",
       "      <td>4.256090</td>\n",
       "      <td>0.000000</td>\n",
       "      <td>1.000</td>\n",
       "      <td>3.000000</td>\n",
       "      <td>5.00</td>\n",
       "      <td>203.000000</td>\n",
       "    </tr>\n",
       "    <tr>\n",
       "      <th>fr_ma_rech30</th>\n",
       "      <td>209593.0</td>\n",
       "      <td>3737.355121</td>\n",
       "      <td>53643.625172</td>\n",
       "      <td>0.000000</td>\n",
       "      <td>0.000</td>\n",
       "      <td>2.000000</td>\n",
       "      <td>6.00</td>\n",
       "      <td>999606.368132</td>\n",
       "    </tr>\n",
       "    <tr>\n",
       "      <th>sumamnt_ma_rech30</th>\n",
       "      <td>209593.0</td>\n",
       "      <td>7704.501157</td>\n",
       "      <td>10139.621714</td>\n",
       "      <td>0.000000</td>\n",
       "      <td>1540.000</td>\n",
       "      <td>4628.000000</td>\n",
       "      <td>10010.00</td>\n",
       "      <td>810096.000000</td>\n",
       "    </tr>\n",
       "    <tr>\n",
       "      <th>medianamnt_ma_rech30</th>\n",
       "      <td>209593.0</td>\n",
       "      <td>1812.817952</td>\n",
       "      <td>2070.864620</td>\n",
       "      <td>0.000000</td>\n",
       "      <td>770.000</td>\n",
       "      <td>1539.000000</td>\n",
       "      <td>1924.00</td>\n",
       "      <td>55000.000000</td>\n",
       "    </tr>\n",
       "    <tr>\n",
       "      <th>medianmarechprebal30</th>\n",
       "      <td>209593.0</td>\n",
       "      <td>3851.927942</td>\n",
       "      <td>54006.374433</td>\n",
       "      <td>-200.000000</td>\n",
       "      <td>11.000</td>\n",
       "      <td>33.900000</td>\n",
       "      <td>83.00</td>\n",
       "      <td>999479.419319</td>\n",
       "    </tr>\n",
       "    <tr>\n",
       "      <th>cnt_ma_rech90</th>\n",
       "      <td>209593.0</td>\n",
       "      <td>6.315430</td>\n",
       "      <td>7.193470</td>\n",
       "      <td>0.000000</td>\n",
       "      <td>2.000</td>\n",
       "      <td>4.000000</td>\n",
       "      <td>8.00</td>\n",
       "      <td>336.000000</td>\n",
       "    </tr>\n",
       "    <tr>\n",
       "      <th>fr_ma_rech90</th>\n",
       "      <td>209593.0</td>\n",
       "      <td>7.716780</td>\n",
       "      <td>12.590251</td>\n",
       "      <td>0.000000</td>\n",
       "      <td>0.000</td>\n",
       "      <td>2.000000</td>\n",
       "      <td>8.00</td>\n",
       "      <td>88.000000</td>\n",
       "    </tr>\n",
       "    <tr>\n",
       "      <th>sumamnt_ma_rech90</th>\n",
       "      <td>209593.0</td>\n",
       "      <td>12396.218352</td>\n",
       "      <td>16857.793882</td>\n",
       "      <td>0.000000</td>\n",
       "      <td>2317.000</td>\n",
       "      <td>7226.000000</td>\n",
       "      <td>16000.00</td>\n",
       "      <td>953036.000000</td>\n",
       "    </tr>\n",
       "    <tr>\n",
       "      <th>medianamnt_ma_rech90</th>\n",
       "      <td>209593.0</td>\n",
       "      <td>1864.595821</td>\n",
       "      <td>2081.680664</td>\n",
       "      <td>0.000000</td>\n",
       "      <td>773.000</td>\n",
       "      <td>1539.000000</td>\n",
       "      <td>1924.00</td>\n",
       "      <td>55000.000000</td>\n",
       "    </tr>\n",
       "    <tr>\n",
       "      <th>medianmarechprebal90</th>\n",
       "      <td>209593.0</td>\n",
       "      <td>92.025541</td>\n",
       "      <td>369.215658</td>\n",
       "      <td>-200.000000</td>\n",
       "      <td>14.600</td>\n",
       "      <td>36.000000</td>\n",
       "      <td>79.31</td>\n",
       "      <td>41456.500000</td>\n",
       "    </tr>\n",
       "    <tr>\n",
       "      <th>cnt_da_rech30</th>\n",
       "      <td>209593.0</td>\n",
       "      <td>262.578110</td>\n",
       "      <td>4183.897978</td>\n",
       "      <td>0.000000</td>\n",
       "      <td>0.000</td>\n",
       "      <td>0.000000</td>\n",
       "      <td>0.00</td>\n",
       "      <td>99914.441420</td>\n",
       "    </tr>\n",
       "    <tr>\n",
       "      <th>fr_da_rech30</th>\n",
       "      <td>209593.0</td>\n",
       "      <td>3749.494447</td>\n",
       "      <td>53885.414979</td>\n",
       "      <td>0.000000</td>\n",
       "      <td>0.000</td>\n",
       "      <td>0.000000</td>\n",
       "      <td>0.00</td>\n",
       "      <td>999809.240107</td>\n",
       "    </tr>\n",
       "    <tr>\n",
       "      <th>cnt_da_rech90</th>\n",
       "      <td>209593.0</td>\n",
       "      <td>0.041495</td>\n",
       "      <td>0.397556</td>\n",
       "      <td>0.000000</td>\n",
       "      <td>0.000</td>\n",
       "      <td>0.000000</td>\n",
       "      <td>0.00</td>\n",
       "      <td>38.000000</td>\n",
       "    </tr>\n",
       "    <tr>\n",
       "      <th>fr_da_rech90</th>\n",
       "      <td>209593.0</td>\n",
       "      <td>0.045712</td>\n",
       "      <td>0.951386</td>\n",
       "      <td>0.000000</td>\n",
       "      <td>0.000</td>\n",
       "      <td>0.000000</td>\n",
       "      <td>0.00</td>\n",
       "      <td>64.000000</td>\n",
       "    </tr>\n",
       "    <tr>\n",
       "      <th>cnt_loans30</th>\n",
       "      <td>209593.0</td>\n",
       "      <td>2.758981</td>\n",
       "      <td>2.554502</td>\n",
       "      <td>0.000000</td>\n",
       "      <td>1.000</td>\n",
       "      <td>2.000000</td>\n",
       "      <td>4.00</td>\n",
       "      <td>50.000000</td>\n",
       "    </tr>\n",
       "    <tr>\n",
       "      <th>amnt_loans30</th>\n",
       "      <td>209593.0</td>\n",
       "      <td>17.952021</td>\n",
       "      <td>17.379741</td>\n",
       "      <td>0.000000</td>\n",
       "      <td>6.000</td>\n",
       "      <td>12.000000</td>\n",
       "      <td>24.00</td>\n",
       "      <td>306.000000</td>\n",
       "    </tr>\n",
       "    <tr>\n",
       "      <th>maxamnt_loans30</th>\n",
       "      <td>209593.0</td>\n",
       "      <td>274.658747</td>\n",
       "      <td>4245.264648</td>\n",
       "      <td>0.000000</td>\n",
       "      <td>6.000</td>\n",
       "      <td>6.000000</td>\n",
       "      <td>6.00</td>\n",
       "      <td>99864.560864</td>\n",
       "    </tr>\n",
       "    <tr>\n",
       "      <th>medianamnt_loans30</th>\n",
       "      <td>209593.0</td>\n",
       "      <td>0.054029</td>\n",
       "      <td>0.218039</td>\n",
       "      <td>0.000000</td>\n",
       "      <td>0.000</td>\n",
       "      <td>0.000000</td>\n",
       "      <td>0.00</td>\n",
       "      <td>3.000000</td>\n",
       "    </tr>\n",
       "    <tr>\n",
       "      <th>cnt_loans90</th>\n",
       "      <td>209593.0</td>\n",
       "      <td>18.520919</td>\n",
       "      <td>224.797423</td>\n",
       "      <td>0.000000</td>\n",
       "      <td>1.000</td>\n",
       "      <td>2.000000</td>\n",
       "      <td>5.00</td>\n",
       "      <td>4997.517944</td>\n",
       "    </tr>\n",
       "    <tr>\n",
       "      <th>amnt_loans90</th>\n",
       "      <td>209593.0</td>\n",
       "      <td>23.645398</td>\n",
       "      <td>26.469861</td>\n",
       "      <td>0.000000</td>\n",
       "      <td>6.000</td>\n",
       "      <td>12.000000</td>\n",
       "      <td>30.00</td>\n",
       "      <td>438.000000</td>\n",
       "    </tr>\n",
       "    <tr>\n",
       "      <th>maxamnt_loans90</th>\n",
       "      <td>209593.0</td>\n",
       "      <td>6.703134</td>\n",
       "      <td>2.103864</td>\n",
       "      <td>0.000000</td>\n",
       "      <td>6.000</td>\n",
       "      <td>6.000000</td>\n",
       "      <td>6.00</td>\n",
       "      <td>12.000000</td>\n",
       "    </tr>\n",
       "    <tr>\n",
       "      <th>medianamnt_loans90</th>\n",
       "      <td>209593.0</td>\n",
       "      <td>0.046077</td>\n",
       "      <td>0.200692</td>\n",
       "      <td>0.000000</td>\n",
       "      <td>0.000</td>\n",
       "      <td>0.000000</td>\n",
       "      <td>0.00</td>\n",
       "      <td>3.000000</td>\n",
       "    </tr>\n",
       "    <tr>\n",
       "      <th>payback30</th>\n",
       "      <td>209593.0</td>\n",
       "      <td>3.398826</td>\n",
       "      <td>8.813729</td>\n",
       "      <td>0.000000</td>\n",
       "      <td>0.000</td>\n",
       "      <td>0.000000</td>\n",
       "      <td>3.75</td>\n",
       "      <td>171.500000</td>\n",
       "    </tr>\n",
       "    <tr>\n",
       "      <th>payback90</th>\n",
       "      <td>209593.0</td>\n",
       "      <td>4.321485</td>\n",
       "      <td>10.308108</td>\n",
       "      <td>0.000000</td>\n",
       "      <td>0.000</td>\n",
       "      <td>1.666667</td>\n",
       "      <td>4.50</td>\n",
       "      <td>171.500000</td>\n",
       "    </tr>\n",
       "  </tbody>\n",
       "</table>\n",
       "</div>"
      ],
      "text/plain": [
       "                         count          mean           std           min  \\\n",
       "label                 209593.0      0.875177      0.330519      0.000000   \n",
       "aon                   209593.0   8112.343445  75696.082531    -48.000000   \n",
       "daily_decr30          209593.0   5381.402289   9220.623400    -93.012667   \n",
       "daily_decr90          209593.0   6082.515068  10918.812767    -93.012667   \n",
       "rental30              209593.0   2692.581910   4308.586781 -23737.140000   \n",
       "rental90              209593.0   3483.406534   5770.461279 -24720.580000   \n",
       "last_rech_date_ma     209593.0   3755.847800  53905.892230    -29.000000   \n",
       "last_rech_date_da     209593.0   3712.202921  53374.833430    -29.000000   \n",
       "last_rech_amt_ma      209593.0   2064.452797   2370.786034      0.000000   \n",
       "cnt_ma_rech30         209593.0      3.978057      4.256090      0.000000   \n",
       "fr_ma_rech30          209593.0   3737.355121  53643.625172      0.000000   \n",
       "sumamnt_ma_rech30     209593.0   7704.501157  10139.621714      0.000000   \n",
       "medianamnt_ma_rech30  209593.0   1812.817952   2070.864620      0.000000   \n",
       "medianmarechprebal30  209593.0   3851.927942  54006.374433   -200.000000   \n",
       "cnt_ma_rech90         209593.0      6.315430      7.193470      0.000000   \n",
       "fr_ma_rech90          209593.0      7.716780     12.590251      0.000000   \n",
       "sumamnt_ma_rech90     209593.0  12396.218352  16857.793882      0.000000   \n",
       "medianamnt_ma_rech90  209593.0   1864.595821   2081.680664      0.000000   \n",
       "medianmarechprebal90  209593.0     92.025541    369.215658   -200.000000   \n",
       "cnt_da_rech30         209593.0    262.578110   4183.897978      0.000000   \n",
       "fr_da_rech30          209593.0   3749.494447  53885.414979      0.000000   \n",
       "cnt_da_rech90         209593.0      0.041495      0.397556      0.000000   \n",
       "fr_da_rech90          209593.0      0.045712      0.951386      0.000000   \n",
       "cnt_loans30           209593.0      2.758981      2.554502      0.000000   \n",
       "amnt_loans30          209593.0     17.952021     17.379741      0.000000   \n",
       "maxamnt_loans30       209593.0    274.658747   4245.264648      0.000000   \n",
       "medianamnt_loans30    209593.0      0.054029      0.218039      0.000000   \n",
       "cnt_loans90           209593.0     18.520919    224.797423      0.000000   \n",
       "amnt_loans90          209593.0     23.645398     26.469861      0.000000   \n",
       "maxamnt_loans90       209593.0      6.703134      2.103864      0.000000   \n",
       "medianamnt_loans90    209593.0      0.046077      0.200692      0.000000   \n",
       "payback30             209593.0      3.398826      8.813729      0.000000   \n",
       "payback90             209593.0      4.321485     10.308108      0.000000   \n",
       "\n",
       "                           25%          50%       75%            max  \n",
       "label                    1.000     1.000000      1.00       1.000000  \n",
       "aon                    246.000   527.000000    982.00  999860.755168  \n",
       "daily_decr30            42.440  1469.175667   7244.00  265926.000000  \n",
       "daily_decr90            42.692  1500.000000   7802.79  320630.000000  \n",
       "rental30               280.420  1083.570000   3356.94  198926.110000  \n",
       "rental90               300.260  1334.000000   4201.79  200148.110000  \n",
       "last_rech_date_ma        1.000     3.000000      7.00  998650.377733  \n",
       "last_rech_date_da        0.000     0.000000      0.00  999171.809410  \n",
       "last_rech_amt_ma       770.000  1539.000000   2309.00   55000.000000  \n",
       "cnt_ma_rech30            1.000     3.000000      5.00     203.000000  \n",
       "fr_ma_rech30             0.000     2.000000      6.00  999606.368132  \n",
       "sumamnt_ma_rech30     1540.000  4628.000000  10010.00  810096.000000  \n",
       "medianamnt_ma_rech30   770.000  1539.000000   1924.00   55000.000000  \n",
       "medianmarechprebal30    11.000    33.900000     83.00  999479.419319  \n",
       "cnt_ma_rech90            2.000     4.000000      8.00     336.000000  \n",
       "fr_ma_rech90             0.000     2.000000      8.00      88.000000  \n",
       "sumamnt_ma_rech90     2317.000  7226.000000  16000.00  953036.000000  \n",
       "medianamnt_ma_rech90   773.000  1539.000000   1924.00   55000.000000  \n",
       "medianmarechprebal90    14.600    36.000000     79.31   41456.500000  \n",
       "cnt_da_rech30            0.000     0.000000      0.00   99914.441420  \n",
       "fr_da_rech30             0.000     0.000000      0.00  999809.240107  \n",
       "cnt_da_rech90            0.000     0.000000      0.00      38.000000  \n",
       "fr_da_rech90             0.000     0.000000      0.00      64.000000  \n",
       "cnt_loans30              1.000     2.000000      4.00      50.000000  \n",
       "amnt_loans30             6.000    12.000000     24.00     306.000000  \n",
       "maxamnt_loans30          6.000     6.000000      6.00   99864.560864  \n",
       "medianamnt_loans30       0.000     0.000000      0.00       3.000000  \n",
       "cnt_loans90              1.000     2.000000      5.00    4997.517944  \n",
       "amnt_loans90             6.000    12.000000     30.00     438.000000  \n",
       "maxamnt_loans90          6.000     6.000000      6.00      12.000000  \n",
       "medianamnt_loans90       0.000     0.000000      0.00       3.000000  \n",
       "payback30                0.000     0.000000      3.75     171.500000  \n",
       "payback90                0.000     1.666667      4.50     171.500000  "
      ]
     },
     "execution_count": 11,
     "metadata": {},
     "output_type": "execute_result"
    }
   ],
   "source": [
    "df.describe().transpose()"
   ]
  },
  {
   "cell_type": "code",
   "execution_count": 12,
   "metadata": {},
   "outputs": [
    {
     "data": {
      "text/html": [
       "<div>\n",
       "<style scoped>\n",
       "    .dataframe tbody tr th:only-of-type {\n",
       "        vertical-align: middle;\n",
       "    }\n",
       "\n",
       "    .dataframe tbody tr th {\n",
       "        vertical-align: top;\n",
       "    }\n",
       "\n",
       "    .dataframe thead th {\n",
       "        text-align: right;\n",
       "    }\n",
       "</style>\n",
       "<table border=\"1\" class=\"dataframe\">\n",
       "  <thead>\n",
       "    <tr style=\"text-align: right;\">\n",
       "      <th></th>\n",
       "      <th>count</th>\n",
       "      <th>unique</th>\n",
       "      <th>top</th>\n",
       "      <th>freq</th>\n",
       "    </tr>\n",
       "  </thead>\n",
       "  <tbody>\n",
       "    <tr>\n",
       "      <th>msisdn</th>\n",
       "      <td>209593</td>\n",
       "      <td>186243</td>\n",
       "      <td>04581I85330</td>\n",
       "      <td>7</td>\n",
       "    </tr>\n",
       "    <tr>\n",
       "      <th>pdate</th>\n",
       "      <td>209593</td>\n",
       "      <td>82</td>\n",
       "      <td>2016-07-04</td>\n",
       "      <td>3150</td>\n",
       "    </tr>\n",
       "  </tbody>\n",
       "</table>\n",
       "</div>"
      ],
      "text/plain": [
       "         count  unique          top  freq\n",
       "msisdn  209593  186243  04581I85330     7\n",
       "pdate   209593      82   2016-07-04  3150"
      ]
     },
     "execution_count": 12,
     "metadata": {},
     "output_type": "execute_result"
    }
   ],
   "source": [
    "\n",
    "#Here we check the summary of object and datetime columns\n",
    "df.describe(include=['object','datetime']).transpose()"
   ]
  },
  {
   "cell_type": "markdown",
   "metadata": {},
   "source": [
    "<b>Observation:</b>\n",
    "\n",
    "* Summary statistics shows all the statistics of our dataset i.e. mean, median and other calculation.\n",
    "* Mean is greater than median in all the columns so aur data is right skewed.\n",
    "* The difference between 75% and maximum is higher that's why outliers are removed which needs to be removed.\n",
    "* The pdate column tells the date when the data is collect. It contains only three month data.\n",
    "* msidn is a mobile number of user and mobile number is unique for every customers. There are only 186243 unique number out of 209593 so rest of the data is duplicates entry so we have to remove those entry."
   ]
  },
  {
   "cell_type": "code",
   "execution_count": 13,
   "metadata": {},
   "outputs": [],
   "source": [
    "df1=df.copy()"
   ]
  },
  {
   "cell_type": "code",
   "execution_count": 14,
   "metadata": {},
   "outputs": [
    {
     "data": {
      "text/plain": [
       "(186243, 35)"
      ]
     },
     "execution_count": 14,
     "metadata": {},
     "output_type": "execute_result"
    }
   ],
   "source": [
    "#Deleting the duplicates entry in msidn column\n",
    "df = df.drop_duplicates(subset = 'msisdn',keep='first')\n",
    "df.shape"
   ]
  },
  {
   "cell_type": "markdown",
   "metadata": {},
   "source": [
    "<a id=\"top\"></a>\n",
    "\n",
    "<div class=\"list-group\" id=\"list-tab\" role=\"tablist\">\n",
    "<h3 class=\"list-group-item list-group-item-action active\" data-toggle=\"list\" style='background:orange; border:0' role=\"tab\" aria-controls=\"home\"><center>Data Exploration</center><a id=3></a></h3>"
   ]
  },
  {
   "cell_type": "code",
   "execution_count": 15,
   "metadata": {},
   "outputs": [
    {
     "name": "stdout",
     "output_type": "stream",
     "text": [
      "msisdn : ['21408I70789' '76462I70374' '17943I70372' ... '22758I85348' '59712I82733'\n",
      " '65061I85339']\n",
      "**********************************************************************************************************\n",
      "\n",
      "\n",
      "pdate : ['2016-07-20' '2016-08-10' '2016-08-19' '2016-06-06' '2016-06-22'\n",
      " '2016-07-02' '2016-07-05' '2016-08-05' '2016-06-15' '2016-06-08'\n",
      " '2016-06-12' '2016-06-20' '2016-06-29' '2016-06-16' '2016-08-03'\n",
      " '2016-06-24' '2016-07-04' '2016-07-03' '2016-07-01' '2016-08-08'\n",
      " '2016-06-26' '2016-06-23' '2016-07-06' '2016-07-09' '2016-06-10'\n",
      " '2016-06-07' '2016-06-27' '2016-08-11' '2016-06-30' '2016-06-19'\n",
      " '2016-07-26' '2016-08-14' '2016-06-14' '2016-06-21' '2016-06-25'\n",
      " '2016-06-28' '2016-06-11' '2016-07-27' '2016-07-23' '2016-08-16'\n",
      " '2016-08-15' '2016-06-02' '2016-06-05' '2016-08-02' '2016-07-28'\n",
      " '2016-07-18' '2016-08-18' '2016-07-16' '2016-07-29' '2016-07-21'\n",
      " '2016-06-03' '2016-06-13' '2016-08-01' '2016-07-13' '2016-07-10'\n",
      " '2016-06-09' '2016-07-15' '2016-07-11' '2016-08-09' '2016-08-12'\n",
      " '2016-07-22' '2016-06-04' '2016-07-24' '2016-06-18' '2016-08-13'\n",
      " '2016-06-17' '2016-08-07' '2016-07-12' '2016-08-06' '2016-07-19'\n",
      " '2016-08-21' '2016-08-04' '2016-07-25' '2016-07-30' '2016-08-17'\n",
      " '2016-07-08' '2016-07-14' '2016-06-01' '2016-07-07' '2016-07-17'\n",
      " '2016-07-31' '2016-08-20']\n",
      "**********************************************************************************************************\n",
      "\n",
      "\n"
     ]
    }
   ],
   "source": [
    "\n",
    "#Printing the object datatypes and their unique values.\n",
    "\n",
    "for column in df.columns:\n",
    "    if df[column].dtypes == object:\n",
    "        print(str(column) + ' : ' + str(df[column].unique()))\n",
    "        print('**********************************************************************************************************')\n",
    "        print('\\n')"
   ]
  },
  {
   "cell_type": "markdown",
   "metadata": {},
   "source": [
    "\n",
    "<b>Observation:\n",
    "</b>\n",
    "* contains only one circle area data. So it have not any impact in our model if we drop this feature."
   ]
  },
  {
   "cell_type": "code",
   "execution_count": 16,
   "metadata": {},
   "outputs": [
    {
     "name": "stdout",
     "output_type": "stream",
     "text": [
      "aon : 4282\n",
      "4282\n",
      "//////*******************************************************************************///////\n",
      "daily_decr30 : 130324\n",
      "130324\n",
      "//////*******************************************************************************///////\n",
      "daily_decr90 : 139843\n",
      "139843\n",
      "//////*******************************************************************************///////\n",
      "rental30 : 117881\n",
      "117881\n",
      "//////*******************************************************************************///////\n",
      "rental90 : 125595\n",
      "125595\n",
      "//////*******************************************************************************///////\n",
      "last_rech_date_ma : 1061\n",
      "1061\n",
      "//////*******************************************************************************///////\n",
      "last_rech_date_da : 1061\n",
      "1061\n",
      "//////*******************************************************************************///////\n",
      "fr_ma_rech30 : 961\n",
      "961\n",
      "//////*******************************************************************************///////\n",
      "sumamnt_ma_rech30 : 13130\n",
      "13130\n",
      "//////*******************************************************************************///////\n",
      "medianamnt_ma_rech30 : 501\n",
      "501\n",
      "//////*******************************************************************************///////\n",
      "medianmarechprebal30 : 28486\n",
      "28486\n",
      "//////*******************************************************************************///////\n",
      "medianamnt_ma_rech90 : 602\n",
      "602\n",
      "//////*******************************************************************************///////\n",
      "medianmarechprebal90 : 28064\n",
      "28064\n",
      "//////*******************************************************************************///////\n",
      "cnt_da_rech30 : 949\n",
      "949\n",
      "//////*******************************************************************************///////\n",
      "fr_da_rech30 : 960\n",
      "960\n",
      "//////*******************************************************************************///////\n",
      "maxamnt_loans30 : 924\n",
      "924\n",
      "//////*******************************************************************************///////\n",
      "medianamnt_loans30 : 6\n",
      "6\n",
      "//////*******************************************************************************///////\n",
      "cnt_loans90 : 968\n",
      "968\n",
      "//////*******************************************************************************///////\n",
      "medianamnt_loans90 : 6\n",
      "6\n",
      "//////*******************************************************************************///////\n",
      "payback30 : 1249\n",
      "1249\n",
      "//////*******************************************************************************///////\n",
      "payback90 : 2128\n",
      "2128\n",
      "//////*******************************************************************************///////\n"
     ]
    }
   ],
   "source": [
    "\n",
    "#Printing the float datatype columns and number of unique values in the particular columns.\n",
    "\n",
    "for column in df.columns:\n",
    "    if df[column].dtype==np.number:\n",
    "        print(str(column) + ' : ' + str(df[column].nunique()))\n",
    "        print(df[column].nunique())\n",
    "        print('//////*******************************************************************************///////')"
   ]
  },
  {
   "cell_type": "code",
   "execution_count": 17,
   "metadata": {},
   "outputs": [
    {
     "data": {
      "text/plain": [
       "1    160383\n",
       "0     25860\n",
       "Name: label, dtype: int64"
      ]
     },
     "execution_count": 17,
     "metadata": {},
     "output_type": "execute_result"
    }
   ],
   "source": [
    "#Checking the number of number of defaulter and non defaulter customers.\n",
    "df['label'].value_counts()"
   ]
  },
  {
   "cell_type": "code",
   "execution_count": 18,
   "metadata": {},
   "outputs": [
    {
     "data": {
      "text/plain": [
       "1    86.114914\n",
       "0    13.885086\n",
       "Name: label, dtype: float64"
      ]
     },
     "execution_count": 18,
     "metadata": {},
     "output_type": "execute_result"
    }
   ],
   "source": [
    "\n",
    "#Checking the defaulter customers percentage wise.\n",
    "df['label'].value_counts(normalize=True) *100"
   ]
  },
  {
   "cell_type": "markdown",
   "metadata": {},
   "source": [
    "\n",
    "<b>Observation:\n",
    "</b>\n",
    "* After seeing the label column which is also our target feature for this dataset it is clearly shown that 86.11% of\n",
    "* data is label 1 and only 13.8% of data is label 0 so our dataset is implanced. So before making the ML model first we have to do sampling to get rid off imblance dataset."
   ]
  },
  {
   "cell_type": "code",
   "execution_count": 19,
   "metadata": {},
   "outputs": [
    {
     "data": {
      "text/html": [
       "<div>\n",
       "<style scoped>\n",
       "    .dataframe tbody tr th:only-of-type {\n",
       "        vertical-align: middle;\n",
       "    }\n",
       "\n",
       "    .dataframe tbody tr th {\n",
       "        vertical-align: top;\n",
       "    }\n",
       "\n",
       "    .dataframe thead th {\n",
       "        text-align: right;\n",
       "    }\n",
       "</style>\n",
       "<table border=\"1\" class=\"dataframe\">\n",
       "  <thead>\n",
       "    <tr style=\"text-align: right;\">\n",
       "      <th></th>\n",
       "      <th>label</th>\n",
       "      <th>aon</th>\n",
       "      <th>daily_decr30</th>\n",
       "      <th>daily_decr90</th>\n",
       "      <th>rental30</th>\n",
       "      <th>rental90</th>\n",
       "      <th>last_rech_date_ma</th>\n",
       "      <th>last_rech_date_da</th>\n",
       "      <th>last_rech_amt_ma</th>\n",
       "      <th>cnt_ma_rech30</th>\n",
       "      <th>...</th>\n",
       "      <th>cnt_loans30</th>\n",
       "      <th>amnt_loans30</th>\n",
       "      <th>maxamnt_loans30</th>\n",
       "      <th>medianamnt_loans30</th>\n",
       "      <th>cnt_loans90</th>\n",
       "      <th>amnt_loans90</th>\n",
       "      <th>maxamnt_loans90</th>\n",
       "      <th>medianamnt_loans90</th>\n",
       "      <th>payback30</th>\n",
       "      <th>payback90</th>\n",
       "    </tr>\n",
       "  </thead>\n",
       "  <tbody>\n",
       "    <tr>\n",
       "      <th>label</th>\n",
       "      <td>1.000000</td>\n",
       "      <td>-0.004035</td>\n",
       "      <td>0.174901</td>\n",
       "      <td>0.173016</td>\n",
       "      <td>0.057207</td>\n",
       "      <td>0.075869</td>\n",
       "      <td>0.004113</td>\n",
       "      <td>0.001814</td>\n",
       "      <td>0.139969</td>\n",
       "      <td>0.244728</td>\n",
       "      <td>...</td>\n",
       "      <td>0.197565</td>\n",
       "      <td>0.199916</td>\n",
       "      <td>-0.000274</td>\n",
       "      <td>0.050067</td>\n",
       "      <td>0.004305</td>\n",
       "      <td>0.205065</td>\n",
       "      <td>0.086033</td>\n",
       "      <td>0.041265</td>\n",
       "      <td>0.050892</td>\n",
       "      <td>0.053776</td>\n",
       "    </tr>\n",
       "    <tr>\n",
       "      <th>aon</th>\n",
       "      <td>-0.004035</td>\n",
       "      <td>1.000000</td>\n",
       "      <td>0.000630</td>\n",
       "      <td>0.000052</td>\n",
       "      <td>-0.002930</td>\n",
       "      <td>-0.002618</td>\n",
       "      <td>0.001853</td>\n",
       "      <td>-0.001796</td>\n",
       "      <td>0.004102</td>\n",
       "      <td>-0.004315</td>\n",
       "      <td>...</td>\n",
       "      <td>-0.003157</td>\n",
       "      <td>-0.003302</td>\n",
       "      <td>-0.003096</td>\n",
       "      <td>0.004679</td>\n",
       "      <td>0.000192</td>\n",
       "      <td>-0.003336</td>\n",
       "      <td>-0.000975</td>\n",
       "      <td>0.002346</td>\n",
       "      <td>0.002246</td>\n",
       "      <td>0.002549</td>\n",
       "    </tr>\n",
       "    <tr>\n",
       "      <th>daily_decr30</th>\n",
       "      <td>0.174901</td>\n",
       "      <td>0.000630</td>\n",
       "      <td>1.000000</td>\n",
       "      <td>0.977659</td>\n",
       "      <td>0.427503</td>\n",
       "      <td>0.444932</td>\n",
       "      <td>-0.000171</td>\n",
       "      <td>-0.001311</td>\n",
       "      <td>0.287181</td>\n",
       "      <td>0.444365</td>\n",
       "      <td>...</td>\n",
       "      <td>0.346504</td>\n",
       "      <td>0.454169</td>\n",
       "      <td>0.001569</td>\n",
       "      <td>-0.005629</td>\n",
       "      <td>0.008865</td>\n",
       "      <td>0.542179</td>\n",
       "      <td>0.396803</td>\n",
       "      <td>-0.031485</td>\n",
       "      <td>0.033669</td>\n",
       "      <td>0.056822</td>\n",
       "    </tr>\n",
       "    <tr>\n",
       "      <th>daily_decr90</th>\n",
       "      <td>0.173016</td>\n",
       "      <td>0.000052</td>\n",
       "      <td>0.977659</td>\n",
       "      <td>1.000000</td>\n",
       "      <td>0.420561</td>\n",
       "      <td>0.457443</td>\n",
       "      <td>0.000058</td>\n",
       "      <td>-0.001484</td>\n",
       "      <td>0.275195</td>\n",
       "      <td>0.419650</td>\n",
       "      <td>...</td>\n",
       "      <td>0.321006</td>\n",
       "      <td>0.430940</td>\n",
       "      <td>0.001283</td>\n",
       "      <td>0.000012</td>\n",
       "      <td>0.009220</td>\n",
       "      <td>0.544854</td>\n",
       "      <td>0.394487</td>\n",
       "      <td>-0.029046</td>\n",
       "      <td>0.025432</td>\n",
       "      <td>0.050147</td>\n",
       "    </tr>\n",
       "    <tr>\n",
       "      <th>rental30</th>\n",
       "      <td>0.057207</td>\n",
       "      <td>-0.002930</td>\n",
       "      <td>0.427503</td>\n",
       "      <td>0.420561</td>\n",
       "      <td>1.000000</td>\n",
       "      <td>0.955233</td>\n",
       "      <td>-0.000949</td>\n",
       "      <td>0.003294</td>\n",
       "      <td>0.128773</td>\n",
       "      <td>0.220472</td>\n",
       "      <td>...</td>\n",
       "      <td>0.162833</td>\n",
       "      <td>0.217586</td>\n",
       "      <td>-0.001525</td>\n",
       "      <td>-0.013746</td>\n",
       "      <td>0.003026</td>\n",
       "      <td>0.280233</td>\n",
       "      <td>0.225449</td>\n",
       "      <td>-0.032555</td>\n",
       "      <td>0.075530</td>\n",
       "      <td>0.099533</td>\n",
       "    </tr>\n",
       "    <tr>\n",
       "      <th>rental90</th>\n",
       "      <td>0.075869</td>\n",
       "      <td>-0.002618</td>\n",
       "      <td>0.444932</td>\n",
       "      <td>0.457443</td>\n",
       "      <td>0.955233</td>\n",
       "      <td>1.000000</td>\n",
       "      <td>-0.001758</td>\n",
       "      <td>0.002643</td>\n",
       "      <td>0.123436</td>\n",
       "      <td>0.218618</td>\n",
       "      <td>...</td>\n",
       "      <td>0.154900</td>\n",
       "      <td>0.216641</td>\n",
       "      <td>-0.002189</td>\n",
       "      <td>-0.006703</td>\n",
       "      <td>0.004301</td>\n",
       "      <td>0.307920</td>\n",
       "      <td>0.241772</td>\n",
       "      <td>-0.031045</td>\n",
       "      <td>0.069847</td>\n",
       "      <td>0.104731</td>\n",
       "    </tr>\n",
       "    <tr>\n",
       "      <th>last_rech_date_ma</th>\n",
       "      <td>0.004113</td>\n",
       "      <td>0.001853</td>\n",
       "      <td>-0.000171</td>\n",
       "      <td>0.000058</td>\n",
       "      <td>-0.000949</td>\n",
       "      <td>-0.001758</td>\n",
       "      <td>1.000000</td>\n",
       "      <td>0.002629</td>\n",
       "      <td>-0.000754</td>\n",
       "      <td>0.006491</td>\n",
       "      <td>...</td>\n",
       "      <td>0.002308</td>\n",
       "      <td>0.001031</td>\n",
       "      <td>0.001681</td>\n",
       "      <td>0.002430</td>\n",
       "      <td>-0.000216</td>\n",
       "      <td>0.000664</td>\n",
       "      <td>-0.003097</td>\n",
       "      <td>0.003261</td>\n",
       "      <td>-0.002857</td>\n",
       "      <td>-0.001787</td>\n",
       "    </tr>\n",
       "    <tr>\n",
       "      <th>last_rech_date_da</th>\n",
       "      <td>0.001814</td>\n",
       "      <td>-0.001796</td>\n",
       "      <td>-0.001311</td>\n",
       "      <td>-0.001484</td>\n",
       "      <td>0.003294</td>\n",
       "      <td>0.002643</td>\n",
       "      <td>0.002629</td>\n",
       "      <td>1.000000</td>\n",
       "      <td>-0.000699</td>\n",
       "      <td>0.002690</td>\n",
       "      <td>...</td>\n",
       "      <td>0.001722</td>\n",
       "      <td>0.001443</td>\n",
       "      <td>0.001135</td>\n",
       "      <td>0.000009</td>\n",
       "      <td>-0.002355</td>\n",
       "      <td>0.001179</td>\n",
       "      <td>0.002294</td>\n",
       "      <td>-0.002258</td>\n",
       "      <td>-0.000020</td>\n",
       "      <td>0.000699</td>\n",
       "    </tr>\n",
       "    <tr>\n",
       "      <th>last_rech_amt_ma</th>\n",
       "      <td>0.139969</td>\n",
       "      <td>0.004102</td>\n",
       "      <td>0.287181</td>\n",
       "      <td>0.275195</td>\n",
       "      <td>0.128773</td>\n",
       "      <td>0.123436</td>\n",
       "      <td>-0.000754</td>\n",
       "      <td>-0.000699</td>\n",
       "      <td>1.000000</td>\n",
       "      <td>0.008012</td>\n",
       "      <td>...</td>\n",
       "      <td>-0.019892</td>\n",
       "      <td>0.017706</td>\n",
       "      <td>0.000558</td>\n",
       "      <td>0.029945</td>\n",
       "      <td>0.000444</td>\n",
       "      <td>0.024067</td>\n",
       "      <td>0.148656</td>\n",
       "      <td>0.022939</td>\n",
       "      <td>-0.026037</td>\n",
       "      <td>-0.013236</td>\n",
       "    </tr>\n",
       "    <tr>\n",
       "      <th>cnt_ma_rech30</th>\n",
       "      <td>0.244728</td>\n",
       "      <td>-0.004315</td>\n",
       "      <td>0.444365</td>\n",
       "      <td>0.419650</td>\n",
       "      <td>0.220472</td>\n",
       "      <td>0.218618</td>\n",
       "      <td>0.006491</td>\n",
       "      <td>0.002690</td>\n",
       "      <td>0.008012</td>\n",
       "      <td>1.000000</td>\n",
       "      <td>...</td>\n",
       "      <td>0.733577</td>\n",
       "      <td>0.723759</td>\n",
       "      <td>-0.001186</td>\n",
       "      <td>-0.058580</td>\n",
       "      <td>0.012307</td>\n",
       "      <td>0.658939</td>\n",
       "      <td>0.180305</td>\n",
       "      <td>-0.063378</td>\n",
       "      <td>0.057166</td>\n",
       "      <td>0.031696</td>\n",
       "    </tr>\n",
       "    <tr>\n",
       "      <th>fr_ma_rech30</th>\n",
       "      <td>0.001129</td>\n",
       "      <td>-0.000436</td>\n",
       "      <td>0.000766</td>\n",
       "      <td>0.001091</td>\n",
       "      <td>0.000272</td>\n",
       "      <td>0.001057</td>\n",
       "      <td>-0.001165</td>\n",
       "      <td>0.000958</td>\n",
       "      <td>0.002998</td>\n",
       "      <td>0.002295</td>\n",
       "      <td>...</td>\n",
       "      <td>0.003172</td>\n",
       "      <td>0.002860</td>\n",
       "      <td>-0.002389</td>\n",
       "      <td>-0.000416</td>\n",
       "      <td>0.003980</td>\n",
       "      <td>0.002794</td>\n",
       "      <td>-0.001276</td>\n",
       "      <td>-0.001572</td>\n",
       "      <td>0.002473</td>\n",
       "      <td>0.002102</td>\n",
       "    </tr>\n",
       "    <tr>\n",
       "      <th>sumamnt_ma_rech30</th>\n",
       "      <td>0.207727</td>\n",
       "      <td>-0.000397</td>\n",
       "      <td>0.630202</td>\n",
       "      <td>0.597542</td>\n",
       "      <td>0.258656</td>\n",
       "      <td>0.246626</td>\n",
       "      <td>0.002544</td>\n",
       "      <td>0.000080</td>\n",
       "      <td>0.456707</td>\n",
       "      <td>0.646356</td>\n",
       "      <td>...</td>\n",
       "      <td>0.461596</td>\n",
       "      <td>0.503819</td>\n",
       "      <td>0.001551</td>\n",
       "      <td>-0.026794</td>\n",
       "      <td>0.008296</td>\n",
       "      <td>0.460148</td>\n",
       "      <td>0.260943</td>\n",
       "      <td>-0.034854</td>\n",
       "      <td>0.008018</td>\n",
       "      <td>-0.003634</td>\n",
       "    </tr>\n",
       "    <tr>\n",
       "      <th>medianamnt_ma_rech30</th>\n",
       "      <td>0.149780</td>\n",
       "      <td>0.004446</td>\n",
       "      <td>0.307440</td>\n",
       "      <td>0.294838</td>\n",
       "      <td>0.132083</td>\n",
       "      <td>0.122747</td>\n",
       "      <td>-0.002716</td>\n",
       "      <td>0.000184</td>\n",
       "      <td>0.796969</td>\n",
       "      <td>0.002987</td>\n",
       "      <td>...</td>\n",
       "      <td>-0.019427</td>\n",
       "      <td>0.018799</td>\n",
       "      <td>0.002353</td>\n",
       "      <td>0.033407</td>\n",
       "      <td>-0.000636</td>\n",
       "      <td>0.026795</td>\n",
       "      <td>0.160716</td>\n",
       "      <td>0.023826</td>\n",
       "      <td>-0.016644</td>\n",
       "      <td>-0.001416</td>\n",
       "    </tr>\n",
       "    <tr>\n",
       "      <th>medianmarechprebal30</th>\n",
       "      <td>-0.004835</td>\n",
       "      <td>0.004221</td>\n",
       "      <td>-0.000854</td>\n",
       "      <td>-0.000688</td>\n",
       "      <td>-0.001112</td>\n",
       "      <td>-0.001047</td>\n",
       "      <td>0.004216</td>\n",
       "      <td>0.003673</td>\n",
       "      <td>-0.002597</td>\n",
       "      <td>0.000556</td>\n",
       "      <td>...</td>\n",
       "      <td>0.000720</td>\n",
       "      <td>0.000802</td>\n",
       "      <td>-0.001916</td>\n",
       "      <td>-0.002140</td>\n",
       "      <td>0.002095</td>\n",
       "      <td>0.001382</td>\n",
       "      <td>-0.002558</td>\n",
       "      <td>-0.002058</td>\n",
       "      <td>0.001593</td>\n",
       "      <td>0.001695</td>\n",
       "    </tr>\n",
       "    <tr>\n",
       "      <th>cnt_ma_rech90</th>\n",
       "      <td>0.245941</td>\n",
       "      <td>-0.003957</td>\n",
       "      <td>0.576787</td>\n",
       "      <td>0.582115</td>\n",
       "      <td>0.295746</td>\n",
       "      <td>0.329330</td>\n",
       "      <td>0.006131</td>\n",
       "      <td>0.001924</td>\n",
       "      <td>0.028202</td>\n",
       "      <td>0.884131</td>\n",
       "      <td>...</td>\n",
       "      <td>0.657093</td>\n",
       "      <td>0.679860</td>\n",
       "      <td>-0.000981</td>\n",
       "      <td>-0.045644</td>\n",
       "      <td>0.013583</td>\n",
       "      <td>0.753304</td>\n",
       "      <td>0.248826</td>\n",
       "      <td>-0.064568</td>\n",
       "      <td>0.021222</td>\n",
       "      <td>0.009319</td>\n",
       "    </tr>\n",
       "    <tr>\n",
       "      <th>fr_ma_rech90</th>\n",
       "      <td>0.094709</td>\n",
       "      <td>0.005517</td>\n",
       "      <td>-0.061858</td>\n",
       "      <td>-0.063740</td>\n",
       "      <td>-0.022353</td>\n",
       "      <td>-0.024882</td>\n",
       "      <td>0.000881</td>\n",
       "      <td>0.001071</td>\n",
       "      <td>0.109126</td>\n",
       "      <td>-0.130383</td>\n",
       "      <td>...</td>\n",
       "      <td>-0.095577</td>\n",
       "      <td>-0.101195</td>\n",
       "      <td>0.001455</td>\n",
       "      <td>0.019313</td>\n",
       "      <td>-0.002041</td>\n",
       "      <td>-0.109715</td>\n",
       "      <td>-0.038461</td>\n",
       "      <td>0.015097</td>\n",
       "      <td>0.037328</td>\n",
       "      <td>0.079096</td>\n",
       "    </tr>\n",
       "    <tr>\n",
       "      <th>sumamnt_ma_rech90</th>\n",
       "      <td>0.212666</td>\n",
       "      <td>0.000160</td>\n",
       "      <td>0.754042</td>\n",
       "      <td>0.759865</td>\n",
       "      <td>0.324302</td>\n",
       "      <td>0.342772</td>\n",
       "      <td>0.002345</td>\n",
       "      <td>-0.000296</td>\n",
       "      <td>0.436776</td>\n",
       "      <td>0.572447</td>\n",
       "      <td>...</td>\n",
       "      <td>0.412481</td>\n",
       "      <td>0.481843</td>\n",
       "      <td>0.001867</td>\n",
       "      <td>-0.014902</td>\n",
       "      <td>0.010786</td>\n",
       "      <td>0.533540</td>\n",
       "      <td>0.323032</td>\n",
       "      <td>-0.034848</td>\n",
       "      <td>-0.021271</td>\n",
       "      <td>-0.022272</td>\n",
       "    </tr>\n",
       "    <tr>\n",
       "      <th>medianamnt_ma_rech90</th>\n",
       "      <td>0.129527</td>\n",
       "      <td>0.005022</td>\n",
       "      <td>0.269721</td>\n",
       "      <td>0.262627</td>\n",
       "      <td>0.113115</td>\n",
       "      <td>0.106832</td>\n",
       "      <td>-0.001947</td>\n",
       "      <td>-0.000321</td>\n",
       "      <td>0.824654</td>\n",
       "      <td>-0.039974</td>\n",
       "      <td>...</td>\n",
       "      <td>-0.052248</td>\n",
       "      <td>-0.015216</td>\n",
       "      <td>0.001287</td>\n",
       "      <td>0.037270</td>\n",
       "      <td>0.000538</td>\n",
       "      <td>-0.013136</td>\n",
       "      <td>0.135380</td>\n",
       "      <td>0.032597</td>\n",
       "      <td>-0.034525</td>\n",
       "      <td>-0.022386</td>\n",
       "    </tr>\n",
       "    <tr>\n",
       "      <th>medianmarechprebal90</th>\n",
       "      <td>0.041728</td>\n",
       "      <td>-0.001128</td>\n",
       "      <td>0.042276</td>\n",
       "      <td>0.041210</td>\n",
       "      <td>0.029945</td>\n",
       "      <td>0.032886</td>\n",
       "      <td>-0.001506</td>\n",
       "      <td>0.004731</td>\n",
       "      <td>0.125195</td>\n",
       "      <td>0.018759</td>\n",
       "      <td>...</td>\n",
       "      <td>-0.040414</td>\n",
       "      <td>-0.030404</td>\n",
       "      <td>0.002022</td>\n",
       "      <td>0.030114</td>\n",
       "      <td>-0.000650</td>\n",
       "      <td>-0.033457</td>\n",
       "      <td>0.028135</td>\n",
       "      <td>0.032048</td>\n",
       "      <td>-0.030236</td>\n",
       "      <td>-0.029950</td>\n",
       "    </tr>\n",
       "    <tr>\n",
       "      <th>cnt_da_rech30</th>\n",
       "      <td>0.004184</td>\n",
       "      <td>0.002445</td>\n",
       "      <td>0.000312</td>\n",
       "      <td>-0.000128</td>\n",
       "      <td>-0.001286</td>\n",
       "      <td>-0.001307</td>\n",
       "      <td>-0.003344</td>\n",
       "      <td>-0.003807</td>\n",
       "      <td>-0.002644</td>\n",
       "      <td>0.003369</td>\n",
       "      <td>...</td>\n",
       "      <td>0.003343</td>\n",
       "      <td>0.002567</td>\n",
       "      <td>-0.002259</td>\n",
       "      <td>-0.000995</td>\n",
       "      <td>-0.001694</td>\n",
       "      <td>0.003354</td>\n",
       "      <td>-0.001141</td>\n",
       "      <td>-0.001589</td>\n",
       "      <td>-0.000655</td>\n",
       "      <td>0.000488</td>\n",
       "    </tr>\n",
       "    <tr>\n",
       "      <th>fr_da_rech30</th>\n",
       "      <td>-0.000137</td>\n",
       "      <td>0.000806</td>\n",
       "      <td>-0.002442</td>\n",
       "      <td>-0.002189</td>\n",
       "      <td>-0.001917</td>\n",
       "      <td>-0.001997</td>\n",
       "      <td>-0.003469</td>\n",
       "      <td>0.000455</td>\n",
       "      <td>-0.003196</td>\n",
       "      <td>-0.000292</td>\n",
       "      <td>...</td>\n",
       "      <td>-0.000826</td>\n",
       "      <td>-0.001507</td>\n",
       "      <td>-0.000645</td>\n",
       "      <td>-0.001739</td>\n",
       "      <td>-0.003855</td>\n",
       "      <td>0.000602</td>\n",
       "      <td>-0.000945</td>\n",
       "      <td>-0.001692</td>\n",
       "      <td>0.001505</td>\n",
       "      <td>-0.001122</td>\n",
       "    </tr>\n",
       "    <tr>\n",
       "      <th>cnt_da_rech90</th>\n",
       "      <td>0.003601</td>\n",
       "      <td>0.000868</td>\n",
       "      <td>0.038944</td>\n",
       "      <td>0.031408</td>\n",
       "      <td>0.073169</td>\n",
       "      <td>0.057332</td>\n",
       "      <td>-0.003700</td>\n",
       "      <td>-0.001229</td>\n",
       "      <td>0.015274</td>\n",
       "      <td>0.011810</td>\n",
       "      <td>...</td>\n",
       "      <td>0.018352</td>\n",
       "      <td>0.026531</td>\n",
       "      <td>-0.001474</td>\n",
       "      <td>-0.003062</td>\n",
       "      <td>0.001208</td>\n",
       "      <td>0.021544</td>\n",
       "      <td>0.036098</td>\n",
       "      <td>-0.002749</td>\n",
       "      <td>0.014265</td>\n",
       "      <td>0.024713</td>\n",
       "    </tr>\n",
       "    <tr>\n",
       "      <th>fr_da_rech90</th>\n",
       "      <td>-0.005779</td>\n",
       "      <td>0.006379</td>\n",
       "      <td>0.019874</td>\n",
       "      <td>0.015944</td>\n",
       "      <td>0.047579</td>\n",
       "      <td>0.037829</td>\n",
       "      <td>-0.002232</td>\n",
       "      <td>0.000210</td>\n",
       "      <td>0.016371</td>\n",
       "      <td>0.005453</td>\n",
       "      <td>...</td>\n",
       "      <td>0.007443</td>\n",
       "      <td>0.012066</td>\n",
       "      <td>-0.000409</td>\n",
       "      <td>-0.002319</td>\n",
       "      <td>0.002682</td>\n",
       "      <td>0.008969</td>\n",
       "      <td>0.021811</td>\n",
       "      <td>-0.001325</td>\n",
       "      <td>0.000673</td>\n",
       "      <td>0.001550</td>\n",
       "    </tr>\n",
       "    <tr>\n",
       "      <th>cnt_loans30</th>\n",
       "      <td>0.197565</td>\n",
       "      <td>-0.003157</td>\n",
       "      <td>0.346504</td>\n",
       "      <td>0.321006</td>\n",
       "      <td>0.162833</td>\n",
       "      <td>0.154900</td>\n",
       "      <td>0.002308</td>\n",
       "      <td>0.001722</td>\n",
       "      <td>-0.019892</td>\n",
       "      <td>0.733577</td>\n",
       "      <td>...</td>\n",
       "      <td>1.000000</td>\n",
       "      <td>0.956576</td>\n",
       "      <td>-0.000302</td>\n",
       "      <td>-0.087408</td>\n",
       "      <td>0.013875</td>\n",
       "      <td>0.850820</td>\n",
       "      <td>0.150610</td>\n",
       "      <td>-0.092829</td>\n",
       "      <td>0.086703</td>\n",
       "      <td>0.051928</td>\n",
       "    </tr>\n",
       "    <tr>\n",
       "      <th>amnt_loans30</th>\n",
       "      <td>0.199916</td>\n",
       "      <td>-0.003302</td>\n",
       "      <td>0.454169</td>\n",
       "      <td>0.430940</td>\n",
       "      <td>0.217586</td>\n",
       "      <td>0.216641</td>\n",
       "      <td>0.001031</td>\n",
       "      <td>0.001443</td>\n",
       "      <td>0.017706</td>\n",
       "      <td>0.723759</td>\n",
       "      <td>...</td>\n",
       "      <td>0.956576</td>\n",
       "      <td>1.000000</td>\n",
       "      <td>-0.000240</td>\n",
       "      <td>-0.071821</td>\n",
       "      <td>0.013252</td>\n",
       "      <td>0.896534</td>\n",
       "      <td>0.342611</td>\n",
       "      <td>-0.082189</td>\n",
       "      <td>0.078025</td>\n",
       "      <td>0.048781</td>\n",
       "    </tr>\n",
       "    <tr>\n",
       "      <th>maxamnt_loans30</th>\n",
       "      <td>-0.000274</td>\n",
       "      <td>-0.003096</td>\n",
       "      <td>0.001569</td>\n",
       "      <td>0.001283</td>\n",
       "      <td>-0.001525</td>\n",
       "      <td>-0.002189</td>\n",
       "      <td>0.001681</td>\n",
       "      <td>0.001135</td>\n",
       "      <td>0.000558</td>\n",
       "      <td>-0.001186</td>\n",
       "      <td>...</td>\n",
       "      <td>-0.000302</td>\n",
       "      <td>-0.000240</td>\n",
       "      <td>1.000000</td>\n",
       "      <td>0.008336</td>\n",
       "      <td>0.003364</td>\n",
       "      <td>-0.001706</td>\n",
       "      <td>0.000132</td>\n",
       "      <td>0.009825</td>\n",
       "      <td>-0.000741</td>\n",
       "      <td>-0.000159</td>\n",
       "    </tr>\n",
       "    <tr>\n",
       "      <th>medianamnt_loans30</th>\n",
       "      <td>0.050067</td>\n",
       "      <td>0.004679</td>\n",
       "      <td>-0.005629</td>\n",
       "      <td>0.000012</td>\n",
       "      <td>-0.013746</td>\n",
       "      <td>-0.006703</td>\n",
       "      <td>0.002430</td>\n",
       "      <td>0.000009</td>\n",
       "      <td>0.029945</td>\n",
       "      <td>-0.058580</td>\n",
       "      <td>...</td>\n",
       "      <td>-0.087408</td>\n",
       "      <td>-0.071821</td>\n",
       "      <td>0.008336</td>\n",
       "      <td>1.000000</td>\n",
       "      <td>-0.002246</td>\n",
       "      <td>-0.061690</td>\n",
       "      <td>0.062114</td>\n",
       "      <td>0.915271</td>\n",
       "      <td>-0.005404</td>\n",
       "      <td>0.003336</td>\n",
       "    </tr>\n",
       "    <tr>\n",
       "      <th>cnt_loans90</th>\n",
       "      <td>0.004305</td>\n",
       "      <td>0.000192</td>\n",
       "      <td>0.008865</td>\n",
       "      <td>0.009220</td>\n",
       "      <td>0.003026</td>\n",
       "      <td>0.004301</td>\n",
       "      <td>-0.000216</td>\n",
       "      <td>-0.002355</td>\n",
       "      <td>0.000444</td>\n",
       "      <td>0.012307</td>\n",
       "      <td>...</td>\n",
       "      <td>0.013875</td>\n",
       "      <td>0.013252</td>\n",
       "      <td>0.003364</td>\n",
       "      <td>-0.002246</td>\n",
       "      <td>1.000000</td>\n",
       "      <td>0.015576</td>\n",
       "      <td>0.001653</td>\n",
       "      <td>-0.001256</td>\n",
       "      <td>0.000008</td>\n",
       "      <td>-0.000901</td>\n",
       "    </tr>\n",
       "    <tr>\n",
       "      <th>amnt_loans90</th>\n",
       "      <td>0.205065</td>\n",
       "      <td>-0.003336</td>\n",
       "      <td>0.542179</td>\n",
       "      <td>0.544854</td>\n",
       "      <td>0.280233</td>\n",
       "      <td>0.307920</td>\n",
       "      <td>0.000664</td>\n",
       "      <td>0.001179</td>\n",
       "      <td>0.024067</td>\n",
       "      <td>0.658939</td>\n",
       "      <td>...</td>\n",
       "      <td>0.850820</td>\n",
       "      <td>0.896534</td>\n",
       "      <td>-0.001706</td>\n",
       "      <td>-0.061690</td>\n",
       "      <td>0.015576</td>\n",
       "      <td>1.000000</td>\n",
       "      <td>0.332799</td>\n",
       "      <td>-0.090813</td>\n",
       "      <td>0.068102</td>\n",
       "      <td>0.048437</td>\n",
       "    </tr>\n",
       "    <tr>\n",
       "      <th>maxamnt_loans90</th>\n",
       "      <td>0.086033</td>\n",
       "      <td>-0.000975</td>\n",
       "      <td>0.396803</td>\n",
       "      <td>0.394487</td>\n",
       "      <td>0.225449</td>\n",
       "      <td>0.241772</td>\n",
       "      <td>-0.003097</td>\n",
       "      <td>0.002294</td>\n",
       "      <td>0.148656</td>\n",
       "      <td>0.180305</td>\n",
       "      <td>...</td>\n",
       "      <td>0.150610</td>\n",
       "      <td>0.342611</td>\n",
       "      <td>0.000132</td>\n",
       "      <td>0.062114</td>\n",
       "      <td>0.001653</td>\n",
       "      <td>0.332799</td>\n",
       "      <td>1.000000</td>\n",
       "      <td>0.036631</td>\n",
       "      <td>0.015477</td>\n",
       "      <td>0.033080</td>\n",
       "    </tr>\n",
       "    <tr>\n",
       "      <th>medianamnt_loans90</th>\n",
       "      <td>0.041265</td>\n",
       "      <td>0.002346</td>\n",
       "      <td>-0.031485</td>\n",
       "      <td>-0.029046</td>\n",
       "      <td>-0.032555</td>\n",
       "      <td>-0.031045</td>\n",
       "      <td>0.003261</td>\n",
       "      <td>-0.002258</td>\n",
       "      <td>0.022939</td>\n",
       "      <td>-0.063378</td>\n",
       "      <td>...</td>\n",
       "      <td>-0.092829</td>\n",
       "      <td>-0.082189</td>\n",
       "      <td>0.009825</td>\n",
       "      <td>0.915271</td>\n",
       "      <td>-0.001256</td>\n",
       "      <td>-0.090813</td>\n",
       "      <td>0.036631</td>\n",
       "      <td>1.000000</td>\n",
       "      <td>-0.012944</td>\n",
       "      <td>-0.010585</td>\n",
       "    </tr>\n",
       "    <tr>\n",
       "      <th>payback30</th>\n",
       "      <td>0.050892</td>\n",
       "      <td>0.002246</td>\n",
       "      <td>0.033669</td>\n",
       "      <td>0.025432</td>\n",
       "      <td>0.075530</td>\n",
       "      <td>0.069847</td>\n",
       "      <td>-0.002857</td>\n",
       "      <td>-0.000020</td>\n",
       "      <td>-0.026037</td>\n",
       "      <td>0.057166</td>\n",
       "      <td>...</td>\n",
       "      <td>0.086703</td>\n",
       "      <td>0.078025</td>\n",
       "      <td>-0.000741</td>\n",
       "      <td>-0.005404</td>\n",
       "      <td>0.000008</td>\n",
       "      <td>0.068102</td>\n",
       "      <td>0.015477</td>\n",
       "      <td>-0.012944</td>\n",
       "      <td>1.000000</td>\n",
       "      <td>0.827801</td>\n",
       "    </tr>\n",
       "    <tr>\n",
       "      <th>payback90</th>\n",
       "      <td>0.053776</td>\n",
       "      <td>0.002549</td>\n",
       "      <td>0.056822</td>\n",
       "      <td>0.050147</td>\n",
       "      <td>0.099533</td>\n",
       "      <td>0.104731</td>\n",
       "      <td>-0.001787</td>\n",
       "      <td>0.000699</td>\n",
       "      <td>-0.013236</td>\n",
       "      <td>0.031696</td>\n",
       "      <td>...</td>\n",
       "      <td>0.051928</td>\n",
       "      <td>0.048781</td>\n",
       "      <td>-0.000159</td>\n",
       "      <td>0.003336</td>\n",
       "      <td>-0.000901</td>\n",
       "      <td>0.048437</td>\n",
       "      <td>0.033080</td>\n",
       "      <td>-0.010585</td>\n",
       "      <td>0.827801</td>\n",
       "      <td>1.000000</td>\n",
       "    </tr>\n",
       "  </tbody>\n",
       "</table>\n",
       "<p>33 rows × 33 columns</p>\n",
       "</div>"
      ],
      "text/plain": [
       "                         label       aon  daily_decr30  daily_decr90  \\\n",
       "label                 1.000000 -0.004035      0.174901      0.173016   \n",
       "aon                  -0.004035  1.000000      0.000630      0.000052   \n",
       "daily_decr30          0.174901  0.000630      1.000000      0.977659   \n",
       "daily_decr90          0.173016  0.000052      0.977659      1.000000   \n",
       "rental30              0.057207 -0.002930      0.427503      0.420561   \n",
       "rental90              0.075869 -0.002618      0.444932      0.457443   \n",
       "last_rech_date_ma     0.004113  0.001853     -0.000171      0.000058   \n",
       "last_rech_date_da     0.001814 -0.001796     -0.001311     -0.001484   \n",
       "last_rech_amt_ma      0.139969  0.004102      0.287181      0.275195   \n",
       "cnt_ma_rech30         0.244728 -0.004315      0.444365      0.419650   \n",
       "fr_ma_rech30          0.001129 -0.000436      0.000766      0.001091   \n",
       "sumamnt_ma_rech30     0.207727 -0.000397      0.630202      0.597542   \n",
       "medianamnt_ma_rech30  0.149780  0.004446      0.307440      0.294838   \n",
       "medianmarechprebal30 -0.004835  0.004221     -0.000854     -0.000688   \n",
       "cnt_ma_rech90         0.245941 -0.003957      0.576787      0.582115   \n",
       "fr_ma_rech90          0.094709  0.005517     -0.061858     -0.063740   \n",
       "sumamnt_ma_rech90     0.212666  0.000160      0.754042      0.759865   \n",
       "medianamnt_ma_rech90  0.129527  0.005022      0.269721      0.262627   \n",
       "medianmarechprebal90  0.041728 -0.001128      0.042276      0.041210   \n",
       "cnt_da_rech30         0.004184  0.002445      0.000312     -0.000128   \n",
       "fr_da_rech30         -0.000137  0.000806     -0.002442     -0.002189   \n",
       "cnt_da_rech90         0.003601  0.000868      0.038944      0.031408   \n",
       "fr_da_rech90         -0.005779  0.006379      0.019874      0.015944   \n",
       "cnt_loans30           0.197565 -0.003157      0.346504      0.321006   \n",
       "amnt_loans30          0.199916 -0.003302      0.454169      0.430940   \n",
       "maxamnt_loans30      -0.000274 -0.003096      0.001569      0.001283   \n",
       "medianamnt_loans30    0.050067  0.004679     -0.005629      0.000012   \n",
       "cnt_loans90           0.004305  0.000192      0.008865      0.009220   \n",
       "amnt_loans90          0.205065 -0.003336      0.542179      0.544854   \n",
       "maxamnt_loans90       0.086033 -0.000975      0.396803      0.394487   \n",
       "medianamnt_loans90    0.041265  0.002346     -0.031485     -0.029046   \n",
       "payback30             0.050892  0.002246      0.033669      0.025432   \n",
       "payback90             0.053776  0.002549      0.056822      0.050147   \n",
       "\n",
       "                      rental30  rental90  last_rech_date_ma  \\\n",
       "label                 0.057207  0.075869           0.004113   \n",
       "aon                  -0.002930 -0.002618           0.001853   \n",
       "daily_decr30          0.427503  0.444932          -0.000171   \n",
       "daily_decr90          0.420561  0.457443           0.000058   \n",
       "rental30              1.000000  0.955233          -0.000949   \n",
       "rental90              0.955233  1.000000          -0.001758   \n",
       "last_rech_date_ma    -0.000949 -0.001758           1.000000   \n",
       "last_rech_date_da     0.003294  0.002643           0.002629   \n",
       "last_rech_amt_ma      0.128773  0.123436          -0.000754   \n",
       "cnt_ma_rech30         0.220472  0.218618           0.006491   \n",
       "fr_ma_rech30          0.000272  0.001057          -0.001165   \n",
       "sumamnt_ma_rech30     0.258656  0.246626           0.002544   \n",
       "medianamnt_ma_rech30  0.132083  0.122747          -0.002716   \n",
       "medianmarechprebal30 -0.001112 -0.001047           0.004216   \n",
       "cnt_ma_rech90         0.295746  0.329330           0.006131   \n",
       "fr_ma_rech90         -0.022353 -0.024882           0.000881   \n",
       "sumamnt_ma_rech90     0.324302  0.342772           0.002345   \n",
       "medianamnt_ma_rech90  0.113115  0.106832          -0.001947   \n",
       "medianmarechprebal90  0.029945  0.032886          -0.001506   \n",
       "cnt_da_rech30        -0.001286 -0.001307          -0.003344   \n",
       "fr_da_rech30         -0.001917 -0.001997          -0.003469   \n",
       "cnt_da_rech90         0.073169  0.057332          -0.003700   \n",
       "fr_da_rech90          0.047579  0.037829          -0.002232   \n",
       "cnt_loans30           0.162833  0.154900           0.002308   \n",
       "amnt_loans30          0.217586  0.216641           0.001031   \n",
       "maxamnt_loans30      -0.001525 -0.002189           0.001681   \n",
       "medianamnt_loans30   -0.013746 -0.006703           0.002430   \n",
       "cnt_loans90           0.003026  0.004301          -0.000216   \n",
       "amnt_loans90          0.280233  0.307920           0.000664   \n",
       "maxamnt_loans90       0.225449  0.241772          -0.003097   \n",
       "medianamnt_loans90   -0.032555 -0.031045           0.003261   \n",
       "payback30             0.075530  0.069847          -0.002857   \n",
       "payback90             0.099533  0.104731          -0.001787   \n",
       "\n",
       "                      last_rech_date_da  last_rech_amt_ma  cnt_ma_rech30  ...  \\\n",
       "label                          0.001814          0.139969       0.244728  ...   \n",
       "aon                           -0.001796          0.004102      -0.004315  ...   \n",
       "daily_decr30                  -0.001311          0.287181       0.444365  ...   \n",
       "daily_decr90                  -0.001484          0.275195       0.419650  ...   \n",
       "rental30                       0.003294          0.128773       0.220472  ...   \n",
       "rental90                       0.002643          0.123436       0.218618  ...   \n",
       "last_rech_date_ma              0.002629         -0.000754       0.006491  ...   \n",
       "last_rech_date_da              1.000000         -0.000699       0.002690  ...   \n",
       "last_rech_amt_ma              -0.000699          1.000000       0.008012  ...   \n",
       "cnt_ma_rech30                  0.002690          0.008012       1.000000  ...   \n",
       "fr_ma_rech30                   0.000958          0.002998       0.002295  ...   \n",
       "sumamnt_ma_rech30              0.000080          0.456707       0.646356  ...   \n",
       "medianamnt_ma_rech30           0.000184          0.796969       0.002987  ...   \n",
       "medianmarechprebal30           0.003673         -0.002597       0.000556  ...   \n",
       "cnt_ma_rech90                  0.001924          0.028202       0.884131  ...   \n",
       "fr_ma_rech90                   0.001071          0.109126      -0.130383  ...   \n",
       "sumamnt_ma_rech90             -0.000296          0.436776       0.572447  ...   \n",
       "medianamnt_ma_rech90          -0.000321          0.824654      -0.039974  ...   \n",
       "medianmarechprebal90           0.004731          0.125195       0.018759  ...   \n",
       "cnt_da_rech30                 -0.003807         -0.002644       0.003369  ...   \n",
       "fr_da_rech30                   0.000455         -0.003196      -0.000292  ...   \n",
       "cnt_da_rech90                 -0.001229          0.015274       0.011810  ...   \n",
       "fr_da_rech90                   0.000210          0.016371       0.005453  ...   \n",
       "cnt_loans30                    0.001722         -0.019892       0.733577  ...   \n",
       "amnt_loans30                   0.001443          0.017706       0.723759  ...   \n",
       "maxamnt_loans30                0.001135          0.000558      -0.001186  ...   \n",
       "medianamnt_loans30             0.000009          0.029945      -0.058580  ...   \n",
       "cnt_loans90                   -0.002355          0.000444       0.012307  ...   \n",
       "amnt_loans90                   0.001179          0.024067       0.658939  ...   \n",
       "maxamnt_loans90                0.002294          0.148656       0.180305  ...   \n",
       "medianamnt_loans90            -0.002258          0.022939      -0.063378  ...   \n",
       "payback30                     -0.000020         -0.026037       0.057166  ...   \n",
       "payback90                      0.000699         -0.013236       0.031696  ...   \n",
       "\n",
       "                      cnt_loans30  amnt_loans30  maxamnt_loans30  \\\n",
       "label                    0.197565      0.199916        -0.000274   \n",
       "aon                     -0.003157     -0.003302        -0.003096   \n",
       "daily_decr30             0.346504      0.454169         0.001569   \n",
       "daily_decr90             0.321006      0.430940         0.001283   \n",
       "rental30                 0.162833      0.217586        -0.001525   \n",
       "rental90                 0.154900      0.216641        -0.002189   \n",
       "last_rech_date_ma        0.002308      0.001031         0.001681   \n",
       "last_rech_date_da        0.001722      0.001443         0.001135   \n",
       "last_rech_amt_ma        -0.019892      0.017706         0.000558   \n",
       "cnt_ma_rech30            0.733577      0.723759        -0.001186   \n",
       "fr_ma_rech30             0.003172      0.002860        -0.002389   \n",
       "sumamnt_ma_rech30        0.461596      0.503819         0.001551   \n",
       "medianamnt_ma_rech30    -0.019427      0.018799         0.002353   \n",
       "medianmarechprebal30     0.000720      0.000802        -0.001916   \n",
       "cnt_ma_rech90            0.657093      0.679860        -0.000981   \n",
       "fr_ma_rech90            -0.095577     -0.101195         0.001455   \n",
       "sumamnt_ma_rech90        0.412481      0.481843         0.001867   \n",
       "medianamnt_ma_rech90    -0.052248     -0.015216         0.001287   \n",
       "medianmarechprebal90    -0.040414     -0.030404         0.002022   \n",
       "cnt_da_rech30            0.003343      0.002567        -0.002259   \n",
       "fr_da_rech30            -0.000826     -0.001507        -0.000645   \n",
       "cnt_da_rech90            0.018352      0.026531        -0.001474   \n",
       "fr_da_rech90             0.007443      0.012066        -0.000409   \n",
       "cnt_loans30              1.000000      0.956576        -0.000302   \n",
       "amnt_loans30             0.956576      1.000000        -0.000240   \n",
       "maxamnt_loans30         -0.000302     -0.000240         1.000000   \n",
       "medianamnt_loans30      -0.087408     -0.071821         0.008336   \n",
       "cnt_loans90              0.013875      0.013252         0.003364   \n",
       "amnt_loans90             0.850820      0.896534        -0.001706   \n",
       "maxamnt_loans90          0.150610      0.342611         0.000132   \n",
       "medianamnt_loans90      -0.092829     -0.082189         0.009825   \n",
       "payback30                0.086703      0.078025        -0.000741   \n",
       "payback90                0.051928      0.048781        -0.000159   \n",
       "\n",
       "                      medianamnt_loans30  cnt_loans90  amnt_loans90  \\\n",
       "label                           0.050067     0.004305      0.205065   \n",
       "aon                             0.004679     0.000192     -0.003336   \n",
       "daily_decr30                   -0.005629     0.008865      0.542179   \n",
       "daily_decr90                    0.000012     0.009220      0.544854   \n",
       "rental30                       -0.013746     0.003026      0.280233   \n",
       "rental90                       -0.006703     0.004301      0.307920   \n",
       "last_rech_date_ma               0.002430    -0.000216      0.000664   \n",
       "last_rech_date_da               0.000009    -0.002355      0.001179   \n",
       "last_rech_amt_ma                0.029945     0.000444      0.024067   \n",
       "cnt_ma_rech30                  -0.058580     0.012307      0.658939   \n",
       "fr_ma_rech30                   -0.000416     0.003980      0.002794   \n",
       "sumamnt_ma_rech30              -0.026794     0.008296      0.460148   \n",
       "medianamnt_ma_rech30            0.033407    -0.000636      0.026795   \n",
       "medianmarechprebal30           -0.002140     0.002095      0.001382   \n",
       "cnt_ma_rech90                  -0.045644     0.013583      0.753304   \n",
       "fr_ma_rech90                    0.019313    -0.002041     -0.109715   \n",
       "sumamnt_ma_rech90              -0.014902     0.010786      0.533540   \n",
       "medianamnt_ma_rech90            0.037270     0.000538     -0.013136   \n",
       "medianmarechprebal90            0.030114    -0.000650     -0.033457   \n",
       "cnt_da_rech30                  -0.000995    -0.001694      0.003354   \n",
       "fr_da_rech30                   -0.001739    -0.003855      0.000602   \n",
       "cnt_da_rech90                  -0.003062     0.001208      0.021544   \n",
       "fr_da_rech90                   -0.002319     0.002682      0.008969   \n",
       "cnt_loans30                    -0.087408     0.013875      0.850820   \n",
       "amnt_loans30                   -0.071821     0.013252      0.896534   \n",
       "maxamnt_loans30                 0.008336     0.003364     -0.001706   \n",
       "medianamnt_loans30              1.000000    -0.002246     -0.061690   \n",
       "cnt_loans90                    -0.002246     1.000000      0.015576   \n",
       "amnt_loans90                   -0.061690     0.015576      1.000000   \n",
       "maxamnt_loans90                 0.062114     0.001653      0.332799   \n",
       "medianamnt_loans90              0.915271    -0.001256     -0.090813   \n",
       "payback30                      -0.005404     0.000008      0.068102   \n",
       "payback90                       0.003336    -0.000901      0.048437   \n",
       "\n",
       "                      maxamnt_loans90  medianamnt_loans90  payback30  \\\n",
       "label                        0.086033            0.041265   0.050892   \n",
       "aon                         -0.000975            0.002346   0.002246   \n",
       "daily_decr30                 0.396803           -0.031485   0.033669   \n",
       "daily_decr90                 0.394487           -0.029046   0.025432   \n",
       "rental30                     0.225449           -0.032555   0.075530   \n",
       "rental90                     0.241772           -0.031045   0.069847   \n",
       "last_rech_date_ma           -0.003097            0.003261  -0.002857   \n",
       "last_rech_date_da            0.002294           -0.002258  -0.000020   \n",
       "last_rech_amt_ma             0.148656            0.022939  -0.026037   \n",
       "cnt_ma_rech30                0.180305           -0.063378   0.057166   \n",
       "fr_ma_rech30                -0.001276           -0.001572   0.002473   \n",
       "sumamnt_ma_rech30            0.260943           -0.034854   0.008018   \n",
       "medianamnt_ma_rech30         0.160716            0.023826  -0.016644   \n",
       "medianmarechprebal30        -0.002558           -0.002058   0.001593   \n",
       "cnt_ma_rech90                0.248826           -0.064568   0.021222   \n",
       "fr_ma_rech90                -0.038461            0.015097   0.037328   \n",
       "sumamnt_ma_rech90            0.323032           -0.034848  -0.021271   \n",
       "medianamnt_ma_rech90         0.135380            0.032597  -0.034525   \n",
       "medianmarechprebal90         0.028135            0.032048  -0.030236   \n",
       "cnt_da_rech30               -0.001141           -0.001589  -0.000655   \n",
       "fr_da_rech30                -0.000945           -0.001692   0.001505   \n",
       "cnt_da_rech90                0.036098           -0.002749   0.014265   \n",
       "fr_da_rech90                 0.021811           -0.001325   0.000673   \n",
       "cnt_loans30                  0.150610           -0.092829   0.086703   \n",
       "amnt_loans30                 0.342611           -0.082189   0.078025   \n",
       "maxamnt_loans30              0.000132            0.009825  -0.000741   \n",
       "medianamnt_loans30           0.062114            0.915271  -0.005404   \n",
       "cnt_loans90                  0.001653           -0.001256   0.000008   \n",
       "amnt_loans90                 0.332799           -0.090813   0.068102   \n",
       "maxamnt_loans90              1.000000            0.036631   0.015477   \n",
       "medianamnt_loans90           0.036631            1.000000  -0.012944   \n",
       "payback30                    0.015477           -0.012944   1.000000   \n",
       "payback90                    0.033080           -0.010585   0.827801   \n",
       "\n",
       "                      payback90  \n",
       "label                  0.053776  \n",
       "aon                    0.002549  \n",
       "daily_decr30           0.056822  \n",
       "daily_decr90           0.050147  \n",
       "rental30               0.099533  \n",
       "rental90               0.104731  \n",
       "last_rech_date_ma     -0.001787  \n",
       "last_rech_date_da      0.000699  \n",
       "last_rech_amt_ma      -0.013236  \n",
       "cnt_ma_rech30          0.031696  \n",
       "fr_ma_rech30           0.002102  \n",
       "sumamnt_ma_rech30     -0.003634  \n",
       "medianamnt_ma_rech30  -0.001416  \n",
       "medianmarechprebal30   0.001695  \n",
       "cnt_ma_rech90          0.009319  \n",
       "fr_ma_rech90           0.079096  \n",
       "sumamnt_ma_rech90     -0.022272  \n",
       "medianamnt_ma_rech90  -0.022386  \n",
       "medianmarechprebal90  -0.029950  \n",
       "cnt_da_rech30          0.000488  \n",
       "fr_da_rech30          -0.001122  \n",
       "cnt_da_rech90          0.024713  \n",
       "fr_da_rech90           0.001550  \n",
       "cnt_loans30            0.051928  \n",
       "amnt_loans30           0.048781  \n",
       "maxamnt_loans30       -0.000159  \n",
       "medianamnt_loans30     0.003336  \n",
       "cnt_loans90           -0.000901  \n",
       "amnt_loans90           0.048437  \n",
       "maxamnt_loans90        0.033080  \n",
       "medianamnt_loans90    -0.010585  \n",
       "payback30              0.827801  \n",
       "payback90              1.000000  \n",
       "\n",
       "[33 rows x 33 columns]"
      ]
     },
     "execution_count": 19,
     "metadata": {},
     "output_type": "execute_result"
    }
   ],
   "source": [
    "#check cor-relation\n",
    "df_cor = df.corr()\n",
    "df_cor"
   ]
  },
  {
   "cell_type": "markdown",
   "metadata": {},
   "source": [
    "<b>Observation:\n",
    "</b>\n",
    "* daily_decr30 and daily_decr90 features are highly correlated with each otheer.\n",
    "* rental30 and rental90 features are highly correlated with each other.\n",
    "* cnt_loans30 and amount_loans30 columns are highly correlated with each other.\n",
    "* amount_loans30 is also highly correlated with amount_loans90 column.\n",
    "* medianamnt_loans30 and medianamnt_loans90 is highly correlated with each other.\n",
    "* We have to drop one of the features which are highly correlated with other feayures. And if we dont do this then our model will face multicolinearity problem."
   ]
  },
  {
   "cell_type": "code",
   "execution_count": 20,
   "metadata": {},
   "outputs": [],
   "source": [
    "#Dropping the columns which is highly correlated with each other do avoid multicolinearity problem.\n",
    "df.drop(columns=['daily_decr30','rental30','amnt_loans30','medianamnt_loans30'],axis=1, inplace = True)"
   ]
  },
  {
   "cell_type": "code",
   "execution_count": 21,
   "metadata": {},
   "outputs": [
    {
     "name": "stdout",
     "output_type": "stream",
     "text": [
      "(186243, 31)\n"
     ]
    },
    {
     "data": {
      "text/plain": [
       "82"
      ]
     },
     "execution_count": 21,
     "metadata": {},
     "output_type": "execute_result"
    }
   ],
   "source": [
    "#Now checking the shape\n",
    "print(df.shape)\n",
    "#Checking the unique value in pdate column.\n",
    "df['pdate'].nunique()\n"
   ]
  },
  {
   "cell_type": "code",
   "execution_count": 22,
   "metadata": {},
   "outputs": [],
   "source": [
    "#Making the new column Day, Month and year from pdate column\n",
    "df['pDay']=pd.to_datetime(df['pdate'],format='%Y/%m/%d').dt.day\n",
    "df['pMonth']=pd.to_datetime(df['pdate'],format='%Y/%m/%d').dt.month\n",
    "df['pYear']=pd.to_datetime(df['pdate'],format='%Y/%m/%d').dt.year"
   ]
  },
  {
   "cell_type": "code",
   "execution_count": 23,
   "metadata": {},
   "outputs": [
    {
     "data": {
      "text/html": [
       "<div>\n",
       "<style scoped>\n",
       "    .dataframe tbody tr th:only-of-type {\n",
       "        vertical-align: middle;\n",
       "    }\n",
       "\n",
       "    .dataframe tbody tr th {\n",
       "        vertical-align: top;\n",
       "    }\n",
       "\n",
       "    .dataframe thead th {\n",
       "        text-align: right;\n",
       "    }\n",
       "</style>\n",
       "<table border=\"1\" class=\"dataframe\">\n",
       "  <thead>\n",
       "    <tr style=\"text-align: right;\">\n",
       "      <th></th>\n",
       "      <th>label</th>\n",
       "      <th>msisdn</th>\n",
       "      <th>aon</th>\n",
       "      <th>daily_decr90</th>\n",
       "      <th>rental90</th>\n",
       "      <th>last_rech_date_ma</th>\n",
       "      <th>last_rech_date_da</th>\n",
       "      <th>last_rech_amt_ma</th>\n",
       "      <th>cnt_ma_rech30</th>\n",
       "      <th>fr_ma_rech30</th>\n",
       "      <th>...</th>\n",
       "      <th>cnt_loans90</th>\n",
       "      <th>amnt_loans90</th>\n",
       "      <th>maxamnt_loans90</th>\n",
       "      <th>medianamnt_loans90</th>\n",
       "      <th>payback30</th>\n",
       "      <th>payback90</th>\n",
       "      <th>pdate</th>\n",
       "      <th>pDay</th>\n",
       "      <th>pMonth</th>\n",
       "      <th>pYear</th>\n",
       "    </tr>\n",
       "  </thead>\n",
       "  <tbody>\n",
       "    <tr>\n",
       "      <th>0</th>\n",
       "      <td>0</td>\n",
       "      <td>21408I70789</td>\n",
       "      <td>272.0</td>\n",
       "      <td>3065.150000</td>\n",
       "      <td>260.13</td>\n",
       "      <td>2.0</td>\n",
       "      <td>0.0</td>\n",
       "      <td>1539</td>\n",
       "      <td>2</td>\n",
       "      <td>21.0</td>\n",
       "      <td>...</td>\n",
       "      <td>2.0</td>\n",
       "      <td>12</td>\n",
       "      <td>6</td>\n",
       "      <td>0.0</td>\n",
       "      <td>29.000000</td>\n",
       "      <td>29.000000</td>\n",
       "      <td>2016-07-20</td>\n",
       "      <td>20</td>\n",
       "      <td>7</td>\n",
       "      <td>2016</td>\n",
       "    </tr>\n",
       "    <tr>\n",
       "      <th>1</th>\n",
       "      <td>1</td>\n",
       "      <td>76462I70374</td>\n",
       "      <td>712.0</td>\n",
       "      <td>12124.750000</td>\n",
       "      <td>3691.26</td>\n",
       "      <td>20.0</td>\n",
       "      <td>0.0</td>\n",
       "      <td>5787</td>\n",
       "      <td>1</td>\n",
       "      <td>0.0</td>\n",
       "      <td>...</td>\n",
       "      <td>1.0</td>\n",
       "      <td>12</td>\n",
       "      <td>12</td>\n",
       "      <td>0.0</td>\n",
       "      <td>0.000000</td>\n",
       "      <td>0.000000</td>\n",
       "      <td>2016-08-10</td>\n",
       "      <td>10</td>\n",
       "      <td>8</td>\n",
       "      <td>2016</td>\n",
       "    </tr>\n",
       "    <tr>\n",
       "      <th>2</th>\n",
       "      <td>1</td>\n",
       "      <td>17943I70372</td>\n",
       "      <td>535.0</td>\n",
       "      <td>1398.000000</td>\n",
       "      <td>900.13</td>\n",
       "      <td>3.0</td>\n",
       "      <td>0.0</td>\n",
       "      <td>1539</td>\n",
       "      <td>1</td>\n",
       "      <td>0.0</td>\n",
       "      <td>...</td>\n",
       "      <td>1.0</td>\n",
       "      <td>6</td>\n",
       "      <td>6</td>\n",
       "      <td>0.0</td>\n",
       "      <td>0.000000</td>\n",
       "      <td>0.000000</td>\n",
       "      <td>2016-08-19</td>\n",
       "      <td>19</td>\n",
       "      <td>8</td>\n",
       "      <td>2016</td>\n",
       "    </tr>\n",
       "    <tr>\n",
       "      <th>3</th>\n",
       "      <td>1</td>\n",
       "      <td>55773I70781</td>\n",
       "      <td>241.0</td>\n",
       "      <td>21.228000</td>\n",
       "      <td>159.42</td>\n",
       "      <td>41.0</td>\n",
       "      <td>0.0</td>\n",
       "      <td>947</td>\n",
       "      <td>0</td>\n",
       "      <td>0.0</td>\n",
       "      <td>...</td>\n",
       "      <td>2.0</td>\n",
       "      <td>12</td>\n",
       "      <td>6</td>\n",
       "      <td>0.0</td>\n",
       "      <td>0.000000</td>\n",
       "      <td>0.000000</td>\n",
       "      <td>2016-06-06</td>\n",
       "      <td>6</td>\n",
       "      <td>6</td>\n",
       "      <td>2016</td>\n",
       "    </tr>\n",
       "    <tr>\n",
       "      <th>4</th>\n",
       "      <td>1</td>\n",
       "      <td>03813I82730</td>\n",
       "      <td>947.0</td>\n",
       "      <td>150.619333</td>\n",
       "      <td>1098.90</td>\n",
       "      <td>4.0</td>\n",
       "      <td>0.0</td>\n",
       "      <td>2309</td>\n",
       "      <td>7</td>\n",
       "      <td>2.0</td>\n",
       "      <td>...</td>\n",
       "      <td>7.0</td>\n",
       "      <td>42</td>\n",
       "      <td>6</td>\n",
       "      <td>0.0</td>\n",
       "      <td>2.333333</td>\n",
       "      <td>2.333333</td>\n",
       "      <td>2016-06-22</td>\n",
       "      <td>22</td>\n",
       "      <td>6</td>\n",
       "      <td>2016</td>\n",
       "    </tr>\n",
       "  </tbody>\n",
       "</table>\n",
       "<p>5 rows × 34 columns</p>\n",
       "</div>"
      ],
      "text/plain": [
       "   label       msisdn    aon  daily_decr90  rental90  last_rech_date_ma  \\\n",
       "0      0  21408I70789  272.0   3065.150000    260.13                2.0   \n",
       "1      1  76462I70374  712.0  12124.750000   3691.26               20.0   \n",
       "2      1  17943I70372  535.0   1398.000000    900.13                3.0   \n",
       "3      1  55773I70781  241.0     21.228000    159.42               41.0   \n",
       "4      1  03813I82730  947.0    150.619333   1098.90                4.0   \n",
       "\n",
       "   last_rech_date_da  last_rech_amt_ma  cnt_ma_rech30  fr_ma_rech30  ...  \\\n",
       "0                0.0              1539              2          21.0  ...   \n",
       "1                0.0              5787              1           0.0  ...   \n",
       "2                0.0              1539              1           0.0  ...   \n",
       "3                0.0               947              0           0.0  ...   \n",
       "4                0.0              2309              7           2.0  ...   \n",
       "\n",
       "   cnt_loans90  amnt_loans90  maxamnt_loans90  medianamnt_loans90  payback30  \\\n",
       "0          2.0            12                6                 0.0  29.000000   \n",
       "1          1.0            12               12                 0.0   0.000000   \n",
       "2          1.0             6                6                 0.0   0.000000   \n",
       "3          2.0            12                6                 0.0   0.000000   \n",
       "4          7.0            42                6                 0.0   2.333333   \n",
       "\n",
       "   payback90       pdate  pDay  pMonth  pYear  \n",
       "0  29.000000  2016-07-20    20       7   2016  \n",
       "1   0.000000  2016-08-10    10       8   2016  \n",
       "2   0.000000  2016-08-19    19       8   2016  \n",
       "3   0.000000  2016-06-06     6       6   2016  \n",
       "4   2.333333  2016-06-22    22       6   2016  \n",
       "\n",
       "[5 rows x 34 columns]"
      ]
     },
     "execution_count": 23,
     "metadata": {},
     "output_type": "execute_result"
    }
   ],
   "source": [
    "df.head()"
   ]
  },
  {
   "cell_type": "code",
   "execution_count": 24,
   "metadata": {},
   "outputs": [
    {
     "data": {
      "text/plain": [
       "array([7, 8, 6], dtype=int64)"
      ]
     },
     "execution_count": 24,
     "metadata": {},
     "output_type": "execute_result"
    }
   ],
   "source": [
    "#Checking the number of months \n",
    "df['pMonth'].unique()"
   ]
  },
  {
   "cell_type": "code",
   "execution_count": 25,
   "metadata": {},
   "outputs": [],
   "source": [
    "#After fetching the data from pdate column now we are going to drop it because it has not any significant role.\n",
    "df.drop(columns=['pdate'],axis=1, inplace = True)"
   ]
  },
  {
   "cell_type": "code",
   "execution_count": 26,
   "metadata": {},
   "outputs": [
    {
     "name": "stdout",
     "output_type": "stream",
     "text": [
      ">>> Total Number of Feature:: 33\n",
      ">>> Number of categorical features:: 1\n",
      ">>> Number of Numerical Feature:: 32\n"
     ]
    }
   ],
   "source": [
    "#Seprate the categorical columns and Numerical columns\n",
    "cat_df,num_df=[],[]\n",
    "\n",
    "for i in df.columns:\n",
    "    if df[i].dtype==object:\n",
    "        cat_df.append(i)\n",
    "    elif (df[i].dtypes=='int64') | (df[i].dtypes=='float64') | (df[i].dtypes=='int32'):\n",
    "        num_df.append(i)\n",
    "    else: continue\n",
    "        \n",
    "print('>>> Total Number of Feature::', df.shape[1])\n",
    "print('>>> Number of categorical features::', len(cat_df))\n",
    "print('>>> Number of Numerical Feature::', len(num_df))"
   ]
  },
  {
   "cell_type": "markdown",
   "metadata": {},
   "source": [
    "<a id=\"top\"></a>\n",
    "\n",
    "<div class=\"list-group\" id=\"list-tab\" role=\"tablist\">\n",
    "<h3 class=\"list-group-item list-group-item-action active\" data-toggle=\"list\" style='background:orange; border:0' role=\"tab\" aria-controls=\"home\"><center>Data Visualization</center><a id=4></a></h3>"
   ]
  },
  {
   "cell_type": "code",
   "execution_count": 27,
   "metadata": {},
   "outputs": [
    {
     "data": {
      "text/plain": [
       "Text(0.5, 1.0, 'Correlation with target Variable that is label column')"
      ]
     },
     "execution_count": 27,
     "metadata": {},
     "output_type": "execute_result"
    },
    {
     "data": {
      "image/png": "[encoded data removed]",
      "text/plain": [
       "<Figure size 1152x576 with 1 Axes>"
      ]
     },
     "metadata": {
      "needs_background": "light"
     },
     "output_type": "display_data"
    }
   ],
   "source": [
    "\n",
    "#Checking the correlation with target variable\n",
    "plt.figure(figsize=(16,8))\n",
    "df.drop('label', axis=1).corrwith(df['label']).plot(kind='bar',grid=True)\n",
    "plt.xticks(rotation='vertical')\n",
    "plt.title(\"Correlation with target Variable that is label column\",fontsize=25)"
   ]
  },
  {
   "cell_type": "markdown",
   "metadata": {},
   "source": [
    "<b>Observation:</b>\n",
    "* Here we see the correlation of the columns with respect to the target column that is label."
   ]
  },
  {
   "cell_type": "code",
   "execution_count": 28,
   "metadata": {},
   "outputs": [
    {
     "data": {
      "image/png": "[encoded data removed]",
      "text/plain": [
       "<Figure size 432x288 with 1 Axes>"
      ]
     },
     "metadata": {
      "needs_background": "light"
     },
     "output_type": "display_data"
    },
    {
     "name": "stdout",
     "output_type": "stream",
     "text": [
      "1    160383\n",
      "0     25860\n",
      "Name: label, dtype: int64\n"
     ]
    }
   ],
   "source": [
    "#Checking the number of Fraud cases.\n",
    "sns.countplot(x='label', data=df, palette='magma')\n",
    "plt.title('No of defaulter/Non-defaulter Case',fontsize=18)\n",
    "plt.show()\n",
    "\n",
    "print(df['label'].value_counts())"
   ]
  },
  {
   "cell_type": "markdown",
   "metadata": {},
   "source": [
    "<b>Observation:\n",
    "</b>\n",
    "* Label 1 indicates loan has been payed i.e Non-Defaulter and label 0 indicates indicates that the loan has not beenpayed i.e. defaulter."
   ]
  },
  {
   "cell_type": "code",
   "execution_count": 29,
   "metadata": {},
   "outputs": [
    {
     "data": {
      "image/png": "[encoded data removed]",
      "text/plain": [
       "<Figure size 1440x1440 with 36 Axes>"
      ]
     },
     "metadata": {
      "needs_background": "light"
     },
     "output_type": "display_data"
    }
   ],
   "source": [
    "#Plotting the Histogram\n",
    "df.hist(figsize=(20,20),color='r')\n",
    "plt.show()"
   ]
  },
  {
   "cell_type": "markdown",
   "metadata": {},
   "source": [
    "<b>Observation:</b>\n",
    "* We plot the histogram to display the shape and spread of continuous sample data.In a histogram, each bar groups numbers into ranges. Taller bars show that more data falls in that range"
   ]
  },
  {
   "cell_type": "code",
   "execution_count": 30,
   "metadata": {},
   "outputs": [
    {
     "data": {
      "image/png": "[encoded data removed]",
      "text/plain": [
       "<Figure size 1440x576 with 1 Axes>"
      ]
     },
     "metadata": {
      "needs_background": "light"
     },
     "output_type": "display_data"
    }
   ],
   "source": [
    "#Customer label according to Date\n",
    "plt.figure(figsize=(20,8))\n",
    "sns.countplot(x=\"pDay\", hue='label', data=df, palette='autumn_r')\n",
    "plt.title(\"Customers label according to Date\", fontsize=25)\n",
    "plt.xlabel('Date')\n",
    "plt.ylabel('Counting of Customers')\n",
    "plt.show()"
   ]
  },
  {
   "cell_type": "code",
   "execution_count": 31,
   "metadata": {},
   "outputs": [
    {
     "data": {
      "image/png": "[encoded data removed]",
      "text/plain": [
       "<Figure size 576x432 with 1 Axes>"
      ]
     },
     "metadata": {
      "needs_background": "light"
     },
     "output_type": "display_data"
    }
   ],
   "source": [
    "#Customer label according to Month\n",
    "plt.figure(figsize=(8,6))\n",
    "sns.countplot(x=\"pMonth\", hue='label', data=df, palette='cool')\n",
    "plt.title(\"Customers label according to month\", fontsize=25)\n",
    "plt.xlabel('Month')\n",
    "plt.ylabel('Counting of Customers')\n",
    "plt.show()"
   ]
  },
  {
   "cell_type": "markdown",
   "metadata": {},
   "source": [
    "<b>Observation:\n",
    "</b>\n",
    "* The first figure which is date vs label shows that the customers who did not pay their loans are from date 10 to 23.\n",
    "* There are severals customers at June and July month who did not pay their loan. "
   ]
  },
  {
   "cell_type": "code",
   "execution_count": 32,
   "metadata": {},
   "outputs": [
    {
     "name": "stderr",
     "output_type": "stream",
     "text": [
      "C:\\Users\\Prachi\\anaconda3\\lib\\site-packages\\seaborn\\distributions.py:2557: FutureWarning: `distplot` is a deprecated function and will be removed in a future version. Please adapt your code to use either `displot` (a figure-level function with similar flexibility) or `histplot` (an axes-level function for histograms).\n",
      "  warnings.warn(msg, FutureWarning)\n"
     ]
    },
    {
     "data": {
      "image/png": "[encoded data removed]",
      "text/plain": [
       "<Figure size 432x288 with 1 Axes>"
      ]
     },
     "metadata": {
      "needs_background": "light"
     },
     "output_type": "display_data"
    },
    {
     "name": "stderr",
     "output_type": "stream",
     "text": [
      "C:\\Users\\Prachi\\anaconda3\\lib\\site-packages\\seaborn\\distributions.py:2557: FutureWarning: `distplot` is a deprecated function and will be removed in a future version. Please adapt your code to use either `displot` (a figure-level function with similar flexibility) or `histplot` (an axes-level function for histograms).\n",
      "  warnings.warn(msg, FutureWarning)\n"
     ]
    },
    {
     "data": {
      "image/png": "[encoded data removed]",
      "text/plain": [
       "<Figure size 432x288 with 1 Axes>"
      ]
     },
     "metadata": {
      "needs_background": "light"
     },
     "output_type": "display_data"
    },
    {
     "name": "stderr",
     "output_type": "stream",
     "text": [
      "C:\\Users\\Prachi\\anaconda3\\lib\\site-packages\\seaborn\\distributions.py:2557: FutureWarning: `distplot` is a deprecated function and will be removed in a future version. Please adapt your code to use either `displot` (a figure-level function with similar flexibility) or `histplot` (an axes-level function for histograms).\n",
      "  warnings.warn(msg, FutureWarning)\n"
     ]
    },
    {
     "data": {
      "image/png": "[encoded data removed]",
      "text/plain": [
       "<Figure size 432x288 with 1 Axes>"
      ]
     },
     "metadata": {
      "needs_background": "light"
     },
     "output_type": "display_data"
    },
    {
     "name": "stderr",
     "output_type": "stream",
     "text": [
      "C:\\Users\\Prachi\\anaconda3\\lib\\site-packages\\seaborn\\distributions.py:2557: FutureWarning: `distplot` is a deprecated function and will be removed in a future version. Please adapt your code to use either `displot` (a figure-level function with similar flexibility) or `histplot` (an axes-level function for histograms).\n",
      "  warnings.warn(msg, FutureWarning)\n"
     ]
    },
    {
     "data": {
      "image/png": "[encoded data removed]",
      "text/plain": [
       "<Figure size 432x288 with 1 Axes>"
      ]
     },
     "metadata": {
      "needs_background": "light"
     },
     "output_type": "display_data"
    },
    {
     "name": "stderr",
     "output_type": "stream",
     "text": [
      "C:\\Users\\Prachi\\anaconda3\\lib\\site-packages\\seaborn\\distributions.py:2557: FutureWarning: `distplot` is a deprecated function and will be removed in a future version. Please adapt your code to use either `displot` (a figure-level function with similar flexibility) or `histplot` (an axes-level function for histograms).\n",
      "  warnings.warn(msg, FutureWarning)\n"
     ]
    },
    {
     "data": {
      "image/png": "[encoded data removed]",
      "text/plain": [
       "<Figure size 432x288 with 1 Axes>"
      ]
     },
     "metadata": {
      "needs_background": "light"
     },
     "output_type": "display_data"
    },
    {
     "name": "stderr",
     "output_type": "stream",
     "text": [
      "C:\\Users\\Prachi\\anaconda3\\lib\\site-packages\\seaborn\\distributions.py:2557: FutureWarning: `distplot` is a deprecated function and will be removed in a future version. Please adapt your code to use either `displot` (a figure-level function with similar flexibility) or `histplot` (an axes-level function for histograms).\n",
      "  warnings.warn(msg, FutureWarning)\n"
     ]
    },
    {
     "data": {
      "image/png": "[encoded data removed]",
      "text/plain": [
       "<Figure size 432x288 with 1 Axes>"
      ]
     },
     "metadata": {
      "needs_background": "light"
     },
     "output_type": "display_data"
    },
    {
     "name": "stderr",
     "output_type": "stream",
     "text": [
      "C:\\Users\\Prachi\\anaconda3\\lib\\site-packages\\seaborn\\distributions.py:2557: FutureWarning: `distplot` is a deprecated function and will be removed in a future version. Please adapt your code to use either `displot` (a figure-level function with similar flexibility) or `histplot` (an axes-level function for histograms).\n",
      "  warnings.warn(msg, FutureWarning)\n"
     ]
    },
    {
     "data": {
      "image/png": "[encoded data removed]",
      "text/plain": [
       "<Figure size 432x288 with 1 Axes>"
      ]
     },
     "metadata": {
      "needs_background": "light"
     },
     "output_type": "display_data"
    },
    {
     "name": "stderr",
     "output_type": "stream",
     "text": [
      "C:\\Users\\Prachi\\anaconda3\\lib\\site-packages\\seaborn\\distributions.py:2557: FutureWarning: `distplot` is a deprecated function and will be removed in a future version. Please adapt your code to use either `displot` (a figure-level function with similar flexibility) or `histplot` (an axes-level function for histograms).\n",
      "  warnings.warn(msg, FutureWarning)\n"
     ]
    },
    {
     "data": {
      "image/png": "[encoded data removed]",
      "text/plain": [
       "<Figure size 432x288 with 1 Axes>"
      ]
     },
     "metadata": {
      "needs_background": "light"
     },
     "output_type": "display_data"
    },
    {
     "name": "stderr",
     "output_type": "stream",
     "text": [
      "C:\\Users\\Prachi\\anaconda3\\lib\\site-packages\\seaborn\\distributions.py:2557: FutureWarning: `distplot` is a deprecated function and will be removed in a future version. Please adapt your code to use either `displot` (a figure-level function with similar flexibility) or `histplot` (an axes-level function for histograms).\n",
      "  warnings.warn(msg, FutureWarning)\n"
     ]
    },
    {
     "data": {
      "image/png": "[encoded data removed]",
      "text/plain": [
       "<Figure size 432x288 with 1 Axes>"
      ]
     },
     "metadata": {
      "needs_background": "light"
     },
     "output_type": "display_data"
    },
    {
     "name": "stderr",
     "output_type": "stream",
     "text": [
      "C:\\Users\\Prachi\\anaconda3\\lib\\site-packages\\seaborn\\distributions.py:2557: FutureWarning: `distplot` is a deprecated function and will be removed in a future version. Please adapt your code to use either `displot` (a figure-level function with similar flexibility) or `histplot` (an axes-level function for histograms).\n",
      "  warnings.warn(msg, FutureWarning)\n"
     ]
    },
    {
     "data": {
      "image/png": "[encoded data removed]",
      "text/plain": [
       "<Figure size 432x288 with 1 Axes>"
      ]
     },
     "metadata": {
      "needs_background": "light"
     },
     "output_type": "display_data"
    },
    {
     "name": "stderr",
     "output_type": "stream",
     "text": [
      "C:\\Users\\Prachi\\anaconda3\\lib\\site-packages\\seaborn\\distributions.py:2557: FutureWarning: `distplot` is a deprecated function and will be removed in a future version. Please adapt your code to use either `displot` (a figure-level function with similar flexibility) or `histplot` (an axes-level function for histograms).\n",
      "  warnings.warn(msg, FutureWarning)\n"
     ]
    },
    {
     "data": {
      "image/png": "[encoded data removed]",
      "text/plain": [
       "<Figure size 432x288 with 1 Axes>"
      ]
     },
     "metadata": {
      "needs_background": "light"
     },
     "output_type": "display_data"
    },
    {
     "name": "stderr",
     "output_type": "stream",
     "text": [
      "C:\\Users\\Prachi\\anaconda3\\lib\\site-packages\\seaborn\\distributions.py:2557: FutureWarning: `distplot` is a deprecated function and will be removed in a future version. Please adapt your code to use either `displot` (a figure-level function with similar flexibility) or `histplot` (an axes-level function for histograms).\n",
      "  warnings.warn(msg, FutureWarning)\n"
     ]
    },
    {
     "data": {
      "image/png": "[encoded data removed]",
      "text/plain": [
       "<Figure size 432x288 with 1 Axes>"
      ]
     },
     "metadata": {
      "needs_background": "light"
     },
     "output_type": "display_data"
    },
    {
     "name": "stderr",
     "output_type": "stream",
     "text": [
      "C:\\Users\\Prachi\\anaconda3\\lib\\site-packages\\seaborn\\distributions.py:2557: FutureWarning: `distplot` is a deprecated function and will be removed in a future version. Please adapt your code to use either `displot` (a figure-level function with similar flexibility) or `histplot` (an axes-level function for histograms).\n",
      "  warnings.warn(msg, FutureWarning)\n"
     ]
    },
    {
     "data": {
      "image/png": "[encoded data removed]",
      "text/plain": [
       "<Figure size 432x288 with 1 Axes>"
      ]
     },
     "metadata": {
      "needs_background": "light"
     },
     "output_type": "display_data"
    },
    {
     "name": "stderr",
     "output_type": "stream",
     "text": [
      "C:\\Users\\Prachi\\anaconda3\\lib\\site-packages\\seaborn\\distributions.py:2557: FutureWarning: `distplot` is a deprecated function and will be removed in a future version. Please adapt your code to use either `displot` (a figure-level function with similar flexibility) or `histplot` (an axes-level function for histograms).\n",
      "  warnings.warn(msg, FutureWarning)\n"
     ]
    },
    {
     "data": {
      "image/png": "[encoded data removed]",
      "text/plain": [
       "<Figure size 432x288 with 1 Axes>"
      ]
     },
     "metadata": {
      "needs_background": "light"
     },
     "output_type": "display_data"
    },
    {
     "name": "stderr",
     "output_type": "stream",
     "text": [
      "C:\\Users\\Prachi\\anaconda3\\lib\\site-packages\\seaborn\\distributions.py:2557: FutureWarning: `distplot` is a deprecated function and will be removed in a future version. Please adapt your code to use either `displot` (a figure-level function with similar flexibility) or `histplot` (an axes-level function for histograms).\n",
      "  warnings.warn(msg, FutureWarning)\n"
     ]
    },
    {
     "data": {
      "image/png": "[encoded data removed]",
      "text/plain": [
       "<Figure size 432x288 with 1 Axes>"
      ]
     },
     "metadata": {
      "needs_background": "light"
     },
     "output_type": "display_data"
    },
    {
     "name": "stderr",
     "output_type": "stream",
     "text": [
      "C:\\Users\\Prachi\\anaconda3\\lib\\site-packages\\seaborn\\distributions.py:2557: FutureWarning: `distplot` is a deprecated function and will be removed in a future version. Please adapt your code to use either `displot` (a figure-level function with similar flexibility) or `histplot` (an axes-level function for histograms).\n",
      "  warnings.warn(msg, FutureWarning)\n"
     ]
    },
    {
     "data": {
      "image/png": "[encoded data removed]",
      "text/plain": [
       "<Figure size 432x288 with 1 Axes>"
      ]
     },
     "metadata": {
      "needs_background": "light"
     },
     "output_type": "display_data"
    },
    {
     "name": "stderr",
     "output_type": "stream",
     "text": [
      "C:\\Users\\Prachi\\anaconda3\\lib\\site-packages\\seaborn\\distributions.py:2557: FutureWarning: `distplot` is a deprecated function and will be removed in a future version. Please adapt your code to use either `displot` (a figure-level function with similar flexibility) or `histplot` (an axes-level function for histograms).\n",
      "  warnings.warn(msg, FutureWarning)\n"
     ]
    },
    {
     "data": {
      "image/png": "[encoded data removed]",
      "text/plain": [
       "<Figure size 432x288 with 1 Axes>"
      ]
     },
     "metadata": {
      "needs_background": "light"
     },
     "output_type": "display_data"
    },
    {
     "name": "stderr",
     "output_type": "stream",
     "text": [
      "C:\\Users\\Prachi\\anaconda3\\lib\\site-packages\\seaborn\\distributions.py:2557: FutureWarning: `distplot` is a deprecated function and will be removed in a future version. Please adapt your code to use either `displot` (a figure-level function with similar flexibility) or `histplot` (an axes-level function for histograms).\n",
      "  warnings.warn(msg, FutureWarning)\n"
     ]
    },
    {
     "data": {
      "image/png": "[encoded data removed]",
      "text/plain": [
       "<Figure size 432x288 with 1 Axes>"
      ]
     },
     "metadata": {
      "needs_background": "light"
     },
     "output_type": "display_data"
    },
    {
     "name": "stderr",
     "output_type": "stream",
     "text": [
      "C:\\Users\\Prachi\\anaconda3\\lib\\site-packages\\seaborn\\distributions.py:2557: FutureWarning: `distplot` is a deprecated function and will be removed in a future version. Please adapt your code to use either `displot` (a figure-level function with similar flexibility) or `histplot` (an axes-level function for histograms).\n",
      "  warnings.warn(msg, FutureWarning)\n"
     ]
    },
    {
     "data": {
      "image/png": "[encoded data removed]",
      "text/plain": [
       "<Figure size 432x288 with 1 Axes>"
      ]
     },
     "metadata": {
      "needs_background": "light"
     },
     "output_type": "display_data"
    },
    {
     "name": "stderr",
     "output_type": "stream",
     "text": [
      "C:\\Users\\Prachi\\anaconda3\\lib\\site-packages\\seaborn\\distributions.py:2557: FutureWarning: `distplot` is a deprecated function and will be removed in a future version. Please adapt your code to use either `displot` (a figure-level function with similar flexibility) or `histplot` (an axes-level function for histograms).\n",
      "  warnings.warn(msg, FutureWarning)\n"
     ]
    },
    {
     "data": {
      "image/png": "[encoded data removed]",
      "text/plain": [
       "<Figure size 432x288 with 1 Axes>"
      ]
     },
     "metadata": {
      "needs_background": "light"
     },
     "output_type": "display_data"
    },
    {
     "name": "stderr",
     "output_type": "stream",
     "text": [
      "C:\\Users\\Prachi\\anaconda3\\lib\\site-packages\\seaborn\\distributions.py:2557: FutureWarning: `distplot` is a deprecated function and will be removed in a future version. Please adapt your code to use either `displot` (a figure-level function with similar flexibility) or `histplot` (an axes-level function for histograms).\n",
      "  warnings.warn(msg, FutureWarning)\n"
     ]
    },
    {
     "data": {
      "image/png": "[encoded data removed]",
      "text/plain": [
       "<Figure size 432x288 with 1 Axes>"
      ]
     },
     "metadata": {
      "needs_background": "light"
     },
     "output_type": "display_data"
    },
    {
     "name": "stderr",
     "output_type": "stream",
     "text": [
      "C:\\Users\\Prachi\\anaconda3\\lib\\site-packages\\seaborn\\distributions.py:2557: FutureWarning: `distplot` is a deprecated function and will be removed in a future version. Please adapt your code to use either `displot` (a figure-level function with similar flexibility) or `histplot` (an axes-level function for histograms).\n",
      "  warnings.warn(msg, FutureWarning)\n"
     ]
    },
    {
     "data": {
      "image/png": "[encoded data removed]",
      "text/plain": [
       "<Figure size 432x288 with 1 Axes>"
      ]
     },
     "metadata": {
      "needs_background": "light"
     },
     "output_type": "display_data"
    },
    {
     "name": "stderr",
     "output_type": "stream",
     "text": [
      "C:\\Users\\Prachi\\anaconda3\\lib\\site-packages\\seaborn\\distributions.py:2557: FutureWarning: `distplot` is a deprecated function and will be removed in a future version. Please adapt your code to use either `displot` (a figure-level function with similar flexibility) or `histplot` (an axes-level function for histograms).\n",
      "  warnings.warn(msg, FutureWarning)\n"
     ]
    },
    {
     "data": {
      "image/png": "[encoded data removed]",
      "text/plain": [
       "<Figure size 432x288 with 1 Axes>"
      ]
     },
     "metadata": {
      "needs_background": "light"
     },
     "output_type": "display_data"
    },
    {
     "name": "stderr",
     "output_type": "stream",
     "text": [
      "C:\\Users\\Prachi\\anaconda3\\lib\\site-packages\\seaborn\\distributions.py:2557: FutureWarning: `distplot` is a deprecated function and will be removed in a future version. Please adapt your code to use either `displot` (a figure-level function with similar flexibility) or `histplot` (an axes-level function for histograms).\n",
      "  warnings.warn(msg, FutureWarning)\n"
     ]
    },
    {
     "data": {
      "image/png": "[encoded data removed]",
      "text/plain": [
       "<Figure size 432x288 with 1 Axes>"
      ]
     },
     "metadata": {
      "needs_background": "light"
     },
     "output_type": "display_data"
    },
    {
     "name": "stderr",
     "output_type": "stream",
     "text": [
      "C:\\Users\\Prachi\\anaconda3\\lib\\site-packages\\seaborn\\distributions.py:2557: FutureWarning: `distplot` is a deprecated function and will be removed in a future version. Please adapt your code to use either `displot` (a figure-level function with similar flexibility) or `histplot` (an axes-level function for histograms).\n",
      "  warnings.warn(msg, FutureWarning)\n"
     ]
    },
    {
     "data": {
      "image/png": "[encoded data removed]",
      "text/plain": [
       "<Figure size 432x288 with 1 Axes>"
      ]
     },
     "metadata": {
      "needs_background": "light"
     },
     "output_type": "display_data"
    },
    {
     "name": "stderr",
     "output_type": "stream",
     "text": [
      "C:\\Users\\Prachi\\anaconda3\\lib\\site-packages\\seaborn\\distributions.py:2557: FutureWarning: `distplot` is a deprecated function and will be removed in a future version. Please adapt your code to use either `displot` (a figure-level function with similar flexibility) or `histplot` (an axes-level function for histograms).\n",
      "  warnings.warn(msg, FutureWarning)\n"
     ]
    },
    {
     "data": {
      "image/png": "[encoded data removed]",
      "text/plain": [
       "<Figure size 432x288 with 1 Axes>"
      ]
     },
     "metadata": {
      "needs_background": "light"
     },
     "output_type": "display_data"
    },
    {
     "name": "stderr",
     "output_type": "stream",
     "text": [
      "C:\\Users\\Prachi\\anaconda3\\lib\\site-packages\\seaborn\\distributions.py:2557: FutureWarning: `distplot` is a deprecated function and will be removed in a future version. Please adapt your code to use either `displot` (a figure-level function with similar flexibility) or `histplot` (an axes-level function for histograms).\n",
      "  warnings.warn(msg, FutureWarning)\n"
     ]
    },
    {
     "data": {
      "image/png": "[encoded data removed]",
      "text/plain": [
       "<Figure size 432x288 with 1 Axes>"
      ]
     },
     "metadata": {
      "needs_background": "light"
     },
     "output_type": "display_data"
    },
    {
     "name": "stderr",
     "output_type": "stream",
     "text": [
      "C:\\Users\\Prachi\\anaconda3\\lib\\site-packages\\seaborn\\distributions.py:2557: FutureWarning: `distplot` is a deprecated function and will be removed in a future version. Please adapt your code to use either `displot` (a figure-level function with similar flexibility) or `histplot` (an axes-level function for histograms).\n",
      "  warnings.warn(msg, FutureWarning)\n"
     ]
    },
    {
     "data": {
      "image/png": "[encoded data removed]",
      "text/plain": [
       "<Figure size 432x288 with 1 Axes>"
      ]
     },
     "metadata": {
      "needs_background": "light"
     },
     "output_type": "display_data"
    },
    {
     "name": "stderr",
     "output_type": "stream",
     "text": [
      "C:\\Users\\Prachi\\anaconda3\\lib\\site-packages\\seaborn\\distributions.py:2557: FutureWarning: `distplot` is a deprecated function and will be removed in a future version. Please adapt your code to use either `displot` (a figure-level function with similar flexibility) or `histplot` (an axes-level function for histograms).\n",
      "  warnings.warn(msg, FutureWarning)\n"
     ]
    },
    {
     "data": {
      "image/png": "[encoded data removed]",
      "text/plain": [
       "<Figure size 432x288 with 1 Axes>"
      ]
     },
     "metadata": {
      "needs_background": "light"
     },
     "output_type": "display_data"
    },
    {
     "name": "stderr",
     "output_type": "stream",
     "text": [
      "C:\\Users\\Prachi\\anaconda3\\lib\\site-packages\\seaborn\\distributions.py:2557: FutureWarning: `distplot` is a deprecated function and will be removed in a future version. Please adapt your code to use either `displot` (a figure-level function with similar flexibility) or `histplot` (an axes-level function for histograms).\n",
      "  warnings.warn(msg, FutureWarning)\n"
     ]
    },
    {
     "data": {
      "image/png": "[encoded data removed]",
      "text/plain": [
       "<Figure size 432x288 with 1 Axes>"
      ]
     },
     "metadata": {
      "needs_background": "light"
     },
     "output_type": "display_data"
    },
    {
     "name": "stderr",
     "output_type": "stream",
     "text": [
      "C:\\Users\\Prachi\\anaconda3\\lib\\site-packages\\seaborn\\distributions.py:2557: FutureWarning: `distplot` is a deprecated function and will be removed in a future version. Please adapt your code to use either `displot` (a figure-level function with similar flexibility) or `histplot` (an axes-level function for histograms).\n",
      "  warnings.warn(msg, FutureWarning)\n"
     ]
    },
    {
     "data": {
      "image/png": "[encoded data removed]",
      "text/plain": [
       "<Figure size 432x288 with 1 Axes>"
      ]
     },
     "metadata": {
      "needs_background": "light"
     },
     "output_type": "display_data"
    },
    {
     "name": "stderr",
     "output_type": "stream",
     "text": [
      "C:\\Users\\Prachi\\anaconda3\\lib\\site-packages\\seaborn\\distributions.py:2557: FutureWarning: `distplot` is a deprecated function and will be removed in a future version. Please adapt your code to use either `displot` (a figure-level function with similar flexibility) or `histplot` (an axes-level function for histograms).\n",
      "  warnings.warn(msg, FutureWarning)\n",
      "C:\\Users\\Prachi\\anaconda3\\lib\\site-packages\\seaborn\\distributions.py:306: UserWarning: Dataset has 0 variance; skipping density estimate.\n",
      "  warnings.warn(msg, UserWarning)\n"
     ]
    },
    {
     "data": {
      "image/png": "[encoded data removed]",
      "text/plain": [
       "<Figure size 432x288 with 1 Axes>"
      ]
     },
     "metadata": {
      "needs_background": "light"
     },
     "output_type": "display_data"
    }
   ],
   "source": [
    "#checking skewness\n",
    "\n",
    "for col in df.describe().columns:\n",
    "    sns.distplot(df[col],color='r')\n",
    "    plt.show()"
   ]
  },
  {
   "cell_type": "code",
   "execution_count": 33,
   "metadata": {},
   "outputs": [
    {
     "data": {
      "text/plain": [
       "label                   -2.088847\n",
       "aon                     10.365026\n",
       "daily_decr90             4.301490\n",
       "rental90                 4.530925\n",
       "last_rech_date_ma       14.852116\n",
       "last_rech_date_da       14.781824\n",
       "last_rech_amt_ma         3.830612\n",
       "cnt_ma_rech30            3.471313\n",
       "fr_ma_rech30            14.822224\n",
       "sumamnt_ma_rech30        7.134012\n",
       "medianamnt_ma_rech30     3.519213\n",
       "medianmarechprebal30    14.677544\n",
       "cnt_ma_rech90            3.558616\n",
       "fr_ma_rech90             2.250443\n",
       "sumamnt_ma_rech90        5.231693\n",
       "medianamnt_ma_rech90     3.753115\n",
       "medianmarechprebal90    43.576364\n",
       "cnt_da_rech30           17.749485\n",
       "fr_da_rech30            14.728609\n",
       "cnt_da_rech90           28.396293\n",
       "fr_da_rech90            28.959851\n",
       "cnt_loans30              2.737584\n",
       "maxamnt_loans30         17.718074\n",
       "cnt_loans90             16.717192\n",
       "amnt_loans90             3.165962\n",
       "maxamnt_loans90          1.650198\n",
       "medianamnt_loans90       4.774958\n",
       "payback30                8.193009\n",
       "payback90                6.763241\n",
       "pDay                     0.200706\n",
       "pMonth                   0.351293\n",
       "pYear                    0.000000\n",
       "dtype: float64"
      ]
     },
     "execution_count": 33,
     "metadata": {},
     "output_type": "execute_result"
    }
   ],
   "source": [
    "df.skew()"
   ]
  },
  {
   "cell_type": "code",
   "execution_count": 34,
   "metadata": {},
   "outputs": [],
   "source": [
    "\n",
    "#Treating Skewness via square root method.\n",
    "#df.skew()\n",
    "#for col in df.skew().index:\n",
    "    #if col in df.describe().columns:\n",
    "        #if df[col].skew()>0.55:\n",
    "            #df[col]=np.sqrt(df[col])"
   ]
  },
  {
   "cell_type": "code",
   "execution_count": 35,
   "metadata": {},
   "outputs": [
    {
     "data": {
      "text/plain": [
       "label                   -2.088847\n",
       "aon                     10.365026\n",
       "daily_decr90             4.301490\n",
       "rental90                 4.530925\n",
       "last_rech_date_ma       14.852116\n",
       "last_rech_date_da       14.781824\n",
       "last_rech_amt_ma         3.830612\n",
       "cnt_ma_rech30            3.471313\n",
       "fr_ma_rech30            14.822224\n",
       "sumamnt_ma_rech30        7.134012\n",
       "medianamnt_ma_rech30     3.519213\n",
       "medianmarechprebal30    14.677544\n",
       "cnt_ma_rech90            3.558616\n",
       "fr_ma_rech90             2.250443\n",
       "sumamnt_ma_rech90        5.231693\n",
       "medianamnt_ma_rech90     3.753115\n",
       "medianmarechprebal90    43.576364\n",
       "cnt_da_rech30           17.749485\n",
       "fr_da_rech30            14.728609\n",
       "cnt_da_rech90           28.396293\n",
       "fr_da_rech90            28.959851\n",
       "cnt_loans30              2.737584\n",
       "maxamnt_loans30         17.718074\n",
       "cnt_loans90             16.717192\n",
       "amnt_loans90             3.165962\n",
       "maxamnt_loans90          1.650198\n",
       "medianamnt_loans90       4.774958\n",
       "payback30                8.193009\n",
       "payback90                6.763241\n",
       "pDay                     0.200706\n",
       "pMonth                   0.351293\n",
       "pYear                    0.000000\n",
       "dtype: float64"
      ]
     },
     "execution_count": 35,
     "metadata": {},
     "output_type": "execute_result"
    }
   ],
   "source": [
    "df.skew()"
   ]
  },
  {
   "cell_type": "code",
   "execution_count": 36,
   "metadata": {},
   "outputs": [
    {
     "data": {
      "text/plain": [
       "<AxesSubplot:xlabel='label', ylabel='fr_da_rech30'>"
      ]
     },
     "execution_count": 36,
     "metadata": {},
     "output_type": "execute_result"
    },
    {
     "data": {
      "image/png": "[encoded data removed]",
      "text/plain": [
       "<Figure size 1296x720 with 4 Axes>"
      ]
     },
     "metadata": {
      "needs_background": "light"
     },
     "output_type": "display_data"
    }
   ],
   "source": [
    "#plotting outliers\n",
    "\n",
    "fig, ((ax1, ax2), (ax3, ax4)) = plt.subplots(nrows=2, ncols=2, figsize = (18, 10))\n",
    "sns.boxplot(ax=ax1, x = 'label', y = 'last_rech_date_ma', hue = 'label', data = df)\n",
    "sns.boxplot(ax=ax2, x = 'label', y = 'last_rech_date_da', hue = 'label', data = df)\n",
    "sns.boxplot(ax=ax3, x = 'label', y = 'cnt_da_rech30', hue = 'label', data = df)\n",
    "sns.boxplot(ax=ax4, x = 'label', y = 'fr_da_rech30', hue = 'label', data = df)"
   ]
  },
  {
   "cell_type": "markdown",
   "metadata": {},
   "source": [
    "<b>Observation:\n",
    "</b>\n",
    "* There are too many outliers present in our dataset.So we need to remove it. But before removing please check that \n",
    "only 8 to 10% of data removed."
   ]
  },
  {
   "cell_type": "code",
   "execution_count": 37,
   "metadata": {},
   "outputs": [],
   "source": [
    "#Creating a copy of our dataset\n",
    "df2=df1.copy()\n",
    "#Dropping the object columns\n",
    "df1.drop(columns=['msisdn','pdate'],axis=1,inplace=True)"
   ]
  },
  {
   "cell_type": "code",
   "execution_count": 38,
   "metadata": {},
   "outputs": [
    {
     "data": {
      "text/plain": [
       "Index(['label', 'aon', 'daily_decr30', 'daily_decr90', 'rental30', 'rental90',\n",
       "       'last_rech_date_ma', 'last_rech_date_da', 'last_rech_amt_ma',\n",
       "       'cnt_ma_rech30', 'fr_ma_rech30', 'sumamnt_ma_rech30',\n",
       "       'medianamnt_ma_rech30', 'medianmarechprebal30', 'cnt_ma_rech90',\n",
       "       'fr_ma_rech90', 'sumamnt_ma_rech90', 'medianamnt_ma_rech90',\n",
       "       'medianmarechprebal90', 'cnt_da_rech30', 'fr_da_rech30',\n",
       "       'cnt_da_rech90', 'fr_da_rech90', 'cnt_loans30', 'amnt_loans30',\n",
       "       'maxamnt_loans30', 'medianamnt_loans30', 'cnt_loans90', 'amnt_loans90',\n",
       "       'maxamnt_loans90', 'medianamnt_loans90', 'payback30', 'payback90'],\n",
       "      dtype='object')"
      ]
     },
     "execution_count": 38,
     "metadata": {},
     "output_type": "execute_result"
    }
   ],
   "source": [
    "df1.columns"
   ]
  },
  {
   "cell_type": "code",
   "execution_count": 39,
   "metadata": {},
   "outputs": [
    {
     "data": {
      "text/plain": [
       "array([[2.64789583, 0.10357685, 0.25229941, ..., 0.22959366, 2.9046997 ,\n",
       "        2.39409346],\n",
       "       [0.37765836, 0.09776412, 0.73103667, ..., 0.22959366, 0.38562959,\n",
       "        0.41923266],\n",
       "       [0.37765836, 0.10010243, 0.43201111, ..., 0.22959366, 0.38562959,\n",
       "        0.41923266],\n",
       "       ...,\n",
       "       [0.37765836, 0.09378769, 0.70079045, ..., 0.22959366, 0.06820893,\n",
       "        0.04735622],\n",
       "       [0.37765836, 0.08428915, 0.77075515, ..., 0.22959366, 0.38562959,\n",
       "        0.59938541],\n",
       "       [0.37765836, 0.08628398, 0.09674426, ..., 0.22959366, 0.38562959,\n",
       "        0.41923266]])"
      ]
     },
     "execution_count": 39,
     "metadata": {},
     "output_type": "execute_result"
    }
   ],
   "source": [
    "from scipy.stats import zscore\n",
    "z=np.abs(zscore(df1))\n",
    "z"
   ]
  },
  {
   "cell_type": "code",
   "execution_count": 40,
   "metadata": {},
   "outputs": [
    {
     "name": "stdout",
     "output_type": "stream",
     "text": [
      "(array([    21,     22,     22, ..., 209586, 209587, 209587], dtype=int64), array([15, 15, 32, ..., 28, 26, 30], dtype=int64))\n"
     ]
    }
   ],
   "source": [
    "threshold=3\n",
    "print(np.where(z>3))"
   ]
  },
  {
   "cell_type": "code",
   "execution_count": 41,
   "metadata": {},
   "outputs": [],
   "source": [
    "\n",
    "df1_new=df1[(z<3).all(axis=1)]"
   ]
  },
  {
   "cell_type": "code",
   "execution_count": 42,
   "metadata": {},
   "outputs": [
    {
     "name": "stdout",
     "output_type": "stream",
     "text": [
      "(209593, 33) \t\t (161465, 33)\n"
     ]
    }
   ],
   "source": [
    "\n",
    "#Checking the shape\n",
    "print(df1.shape,'\\t\\t',df1_new.shape)"
   ]
  },
  {
   "cell_type": "code",
   "execution_count": 43,
   "metadata": {},
   "outputs": [],
   "source": [
    "#Converting the categorical data into numeric variables\n",
    "# Transform Non numeric columns into Numeric columns\n",
    "\n",
    "from sklearn.preprocessing import LabelEncoder\n",
    "\n",
    "le=LabelEncoder()\n",
    "\n",
    "for column in df.columns:\n",
    "    if df[column].dtype==np.number:\n",
    "        continue\n",
    "    df[column]=le.fit_transform(df[column])"
   ]
  },
  {
   "cell_type": "code",
   "execution_count": 44,
   "metadata": {},
   "outputs": [
    {
     "data": {
      "text/html": [
       "<div>\n",
       "<style scoped>\n",
       "    .dataframe tbody tr th:only-of-type {\n",
       "        vertical-align: middle;\n",
       "    }\n",
       "\n",
       "    .dataframe tbody tr th {\n",
       "        vertical-align: top;\n",
       "    }\n",
       "\n",
       "    .dataframe thead th {\n",
       "        text-align: right;\n",
       "    }\n",
       "</style>\n",
       "<table border=\"1\" class=\"dataframe\">\n",
       "  <thead>\n",
       "    <tr style=\"text-align: right;\">\n",
       "      <th></th>\n",
       "      <th>label</th>\n",
       "      <th>msisdn</th>\n",
       "      <th>aon</th>\n",
       "      <th>daily_decr90</th>\n",
       "      <th>rental90</th>\n",
       "      <th>last_rech_date_ma</th>\n",
       "      <th>last_rech_date_da</th>\n",
       "      <th>last_rech_amt_ma</th>\n",
       "      <th>cnt_ma_rech30</th>\n",
       "      <th>fr_ma_rech30</th>\n",
       "      <th>...</th>\n",
       "      <th>maxamnt_loans30</th>\n",
       "      <th>cnt_loans90</th>\n",
       "      <th>amnt_loans90</th>\n",
       "      <th>maxamnt_loans90</th>\n",
       "      <th>medianamnt_loans90</th>\n",
       "      <th>payback30</th>\n",
       "      <th>payback90</th>\n",
       "      <th>pDay</th>\n",
       "      <th>pMonth</th>\n",
       "      <th>pYear</th>\n",
       "    </tr>\n",
       "  </thead>\n",
       "  <tbody>\n",
       "    <tr>\n",
       "      <th>0</th>\n",
       "      <td>0</td>\n",
       "      <td>40191</td>\n",
       "      <td>272.0</td>\n",
       "      <td>3065.150000</td>\n",
       "      <td>260.13</td>\n",
       "      <td>2.0</td>\n",
       "      <td>0.0</td>\n",
       "      <td>14</td>\n",
       "      <td>2</td>\n",
       "      <td>21.0</td>\n",
       "      <td>...</td>\n",
       "      <td>6.0</td>\n",
       "      <td>2.0</td>\n",
       "      <td>2</td>\n",
       "      <td>1</td>\n",
       "      <td>0.0</td>\n",
       "      <td>29.000000</td>\n",
       "      <td>29.000000</td>\n",
       "      <td>19</td>\n",
       "      <td>1</td>\n",
       "      <td>0</td>\n",
       "    </tr>\n",
       "    <tr>\n",
       "      <th>1</th>\n",
       "      <td>1</td>\n",
       "      <td>142291</td>\n",
       "      <td>712.0</td>\n",
       "      <td>12124.750000</td>\n",
       "      <td>3691.26</td>\n",
       "      <td>20.0</td>\n",
       "      <td>0.0</td>\n",
       "      <td>38</td>\n",
       "      <td>1</td>\n",
       "      <td>0.0</td>\n",
       "      <td>...</td>\n",
       "      <td>12.0</td>\n",
       "      <td>1.0</td>\n",
       "      <td>2</td>\n",
       "      <td>2</td>\n",
       "      <td>0.0</td>\n",
       "      <td>0.000000</td>\n",
       "      <td>0.000000</td>\n",
       "      <td>9</td>\n",
       "      <td>2</td>\n",
       "      <td>0</td>\n",
       "    </tr>\n",
       "    <tr>\n",
       "      <th>2</th>\n",
       "      <td>1</td>\n",
       "      <td>33594</td>\n",
       "      <td>535.0</td>\n",
       "      <td>1398.000000</td>\n",
       "      <td>900.13</td>\n",
       "      <td>3.0</td>\n",
       "      <td>0.0</td>\n",
       "      <td>14</td>\n",
       "      <td>1</td>\n",
       "      <td>0.0</td>\n",
       "      <td>...</td>\n",
       "      <td>6.0</td>\n",
       "      <td>1.0</td>\n",
       "      <td>1</td>\n",
       "      <td>1</td>\n",
       "      <td>0.0</td>\n",
       "      <td>0.000000</td>\n",
       "      <td>0.000000</td>\n",
       "      <td>18</td>\n",
       "      <td>2</td>\n",
       "      <td>0</td>\n",
       "    </tr>\n",
       "    <tr>\n",
       "      <th>3</th>\n",
       "      <td>1</td>\n",
       "      <td>104157</td>\n",
       "      <td>241.0</td>\n",
       "      <td>21.228000</td>\n",
       "      <td>159.42</td>\n",
       "      <td>41.0</td>\n",
       "      <td>0.0</td>\n",
       "      <td>10</td>\n",
       "      <td>0</td>\n",
       "      <td>0.0</td>\n",
       "      <td>...</td>\n",
       "      <td>6.0</td>\n",
       "      <td>2.0</td>\n",
       "      <td>2</td>\n",
       "      <td>1</td>\n",
       "      <td>0.0</td>\n",
       "      <td>0.000000</td>\n",
       "      <td>0.000000</td>\n",
       "      <td>5</td>\n",
       "      <td>0</td>\n",
       "      <td>0</td>\n",
       "    </tr>\n",
       "    <tr>\n",
       "      <th>4</th>\n",
       "      <td>1</td>\n",
       "      <td>6910</td>\n",
       "      <td>947.0</td>\n",
       "      <td>150.619333</td>\n",
       "      <td>1098.90</td>\n",
       "      <td>4.0</td>\n",
       "      <td>0.0</td>\n",
       "      <td>23</td>\n",
       "      <td>7</td>\n",
       "      <td>2.0</td>\n",
       "      <td>...</td>\n",
       "      <td>6.0</td>\n",
       "      <td>7.0</td>\n",
       "      <td>7</td>\n",
       "      <td>1</td>\n",
       "      <td>0.0</td>\n",
       "      <td>2.333333</td>\n",
       "      <td>2.333333</td>\n",
       "      <td>21</td>\n",
       "      <td>0</td>\n",
       "      <td>0</td>\n",
       "    </tr>\n",
       "  </tbody>\n",
       "</table>\n",
       "<p>5 rows × 33 columns</p>\n",
       "</div>"
      ],
      "text/plain": [
       "   label  msisdn    aon  daily_decr90  rental90  last_rech_date_ma  \\\n",
       "0      0   40191  272.0   3065.150000    260.13                2.0   \n",
       "1      1  142291  712.0  12124.750000   3691.26               20.0   \n",
       "2      1   33594  535.0   1398.000000    900.13                3.0   \n",
       "3      1  104157  241.0     21.228000    159.42               41.0   \n",
       "4      1    6910  947.0    150.619333   1098.90                4.0   \n",
       "\n",
       "   last_rech_date_da  last_rech_amt_ma  cnt_ma_rech30  fr_ma_rech30  ...  \\\n",
       "0                0.0                14              2          21.0  ...   \n",
       "1                0.0                38              1           0.0  ...   \n",
       "2                0.0                14              1           0.0  ...   \n",
       "3                0.0                10              0           0.0  ...   \n",
       "4                0.0                23              7           2.0  ...   \n",
       "\n",
       "   maxamnt_loans30  cnt_loans90  amnt_loans90  maxamnt_loans90  \\\n",
       "0              6.0          2.0             2                1   \n",
       "1             12.0          1.0             2                2   \n",
       "2              6.0          1.0             1                1   \n",
       "3              6.0          2.0             2                1   \n",
       "4              6.0          7.0             7                1   \n",
       "\n",
       "   medianamnt_loans90  payback30  payback90  pDay  pMonth  pYear  \n",
       "0                 0.0  29.000000  29.000000    19       1      0  \n",
       "1                 0.0   0.000000   0.000000     9       2      0  \n",
       "2                 0.0   0.000000   0.000000    18       2      0  \n",
       "3                 0.0   0.000000   0.000000     5       0      0  \n",
       "4                 0.0   2.333333   2.333333    21       0      0  \n",
       "\n",
       "[5 rows x 33 columns]"
      ]
     },
     "execution_count": 44,
     "metadata": {},
     "output_type": "execute_result"
    }
   ],
   "source": [
    "df.head()"
   ]
  },
  {
   "cell_type": "code",
   "execution_count": 45,
   "metadata": {},
   "outputs": [],
   "source": [
    "#feature importance\n",
    "\n",
    "#Splitting the data into x and y\n",
    "x = df.drop(['label'], axis=1)\n",
    "\n",
    "y = df['label']"
   ]
  },
  {
   "cell_type": "code",
   "execution_count": 46,
   "metadata": {},
   "outputs": [
    {
     "data": {
      "text/plain": [
       "DecisionTreeClassifier(max_depth=3)"
      ]
     },
     "execution_count": 46,
     "metadata": {},
     "output_type": "execute_result"
    }
   ],
   "source": [
    "from sklearn.tree import DecisionTreeClassifier\n",
    "dt = DecisionTreeClassifier(max_depth=3)\n",
    "dt.fit(x, y)"
   ]
  },
  {
   "cell_type": "code",
   "execution_count": 47,
   "metadata": {},
   "outputs": [
    {
     "data": {
      "image/png": "[encoded data removed]",
      "text/plain": [
       "<Figure size 432x288 with 1 Axes>"
      ]
     },
     "metadata": {
      "needs_background": "light"
     },
     "output_type": "display_data"
    }
   ],
   "source": [
    "dt_features = pd.DataFrame(dt.feature_importances_, index=x.columns, columns=['feat_importance'])\n",
    "dt_features.sort_values('feat_importance').tail(10).plot.barh()\n",
    "plt.show()"
   ]
  },
  {
   "cell_type": "markdown",
   "metadata": {},
   "source": [
    "\n",
    "By looking at the daily_decr90 which is Daily amount spent from main account, averaged over last 90 days (in Indonesian Rupiah), it seems that this feature helps to discriminate the data indeed. This feature can bring insights for company when analyzing a customers."
   ]
  },
  {
   "cell_type": "markdown",
   "metadata": {},
   "source": [
    "<a id=\"top\"></a>\n",
    "\n",
    "<div class=\"list-group\" id=\"list-tab\" role=\"tablist\">\n",
    "<h3 class=\"list-group-item list-group-item-action active\" data-toggle=\"list\" style='background:orange; border:0' role=\"tab\" aria-controls=\"home\"><center>Model Training</center><a id=5></a></h3>"
   ]
  },
  {
   "cell_type": "code",
   "execution_count": 48,
   "metadata": {},
   "outputs": [],
   "source": [
    "#Scaling in input variables\n",
    "from sklearn.preprocessing import StandardScaler\n",
    "ss=StandardScaler()\n",
    "x=ss.fit_transform(x)"
   ]
  },
  {
   "cell_type": "code",
   "execution_count": 49,
   "metadata": {},
   "outputs": [],
   "source": [
    "\n",
    "#Splitting the data into training and testing data\n",
    "\n",
    "from sklearn.model_selection import train_test_split,cross_val_score\n",
    "x_train,x_test,y_train,y_test=train_test_split(x,y,test_size=.20,random_state=42,stratify=y)"
   ]
  },
  {
   "cell_type": "code",
   "execution_count": 50,
   "metadata": {},
   "outputs": [],
   "source": [
    "\n",
    "from sklearn.neighbors import KNeighborsClassifier\n",
    "from sklearn.linear_model import LogisticRegression\n",
    "from sklearn.tree import DecisionTreeClassifier\n",
    "from sklearn.naive_bayes import GaussianNB\n",
    "from sklearn.ensemble import RandomForestClassifier"
   ]
  },
  {
   "cell_type": "code",
   "execution_count": 51,
   "metadata": {},
   "outputs": [],
   "source": [
    "KNN=KNeighborsClassifier(n_neighbors=10)\n",
    "LR=LogisticRegression()\n",
    "DT=DecisionTreeClassifier(random_state=20)\n",
    "GNB=GaussianNB()\n",
    "RF=RandomForestClassifier()"
   ]
  },
  {
   "cell_type": "code",
   "execution_count": 57,
   "metadata": {},
   "outputs": [],
   "source": [
    "models = []\n",
    "models.append(('KNeighborsClassifier', KNN))\n",
    "models.append(('LogisticRegression', LR))\n",
    "models.append(('DecisionTreeClassifier',DT))\n",
    "models.append(('GaussianNB', GNB))\n",
    "models.append(('RandomForestClassifier', RF))"
   ]
  },
  {
   "cell_type": "code",
   "execution_count": 58,
   "metadata": {},
   "outputs": [],
   "source": [
    "\n",
    "from sklearn.metrics import classification_report,confusion_matrix,accuracy_score,roc_curve,auc"
   ]
  },
  {
   "cell_type": "code",
   "execution_count": 59,
   "metadata": {},
   "outputs": [
    {
     "name": "stdout",
     "output_type": "stream",
     "text": [
      "**************************** KNeighborsClassifier ********************************\n",
      "\n",
      "\n",
      "KNeighborsClassifier(n_neighbors=10)\n",
      "\n",
      "\n",
      "Accuracy score =  0.8699025477194019\n",
      "\n",
      "\n",
      "Cross_val_Score =  0.8713937870453654\n",
      "\n",
      "\n",
      "roc_auc_score =  0.6867161965572931\n",
      "\n",
      "\n",
      "classification_report\n",
      "               precision    recall  f1-score   support\n",
      "\n",
      "           0       0.54      0.43      0.48      5172\n",
      "           1       0.91      0.94      0.93     32077\n",
      "\n",
      "    accuracy                           0.87     37249\n",
      "   macro avg       0.73      0.69      0.70     37249\n",
      "weighted avg       0.86      0.87      0.86     37249\n",
      "\n",
      "\n",
      "\n",
      "[[ 2240  2932]\n",
      " [ 1914 30163]]\n",
      "\n",
      "\n",
      "AxesSubplot(0.125,0.808774;0.62x0.0712264)\n",
      "\n",
      "\n",
      "\n",
      "**************************** LogisticRegression ********************************\n",
      "\n",
      "\n",
      "LogisticRegression()\n",
      "\n",
      "\n",
      "Accuracy score =  0.8642379661198958\n",
      "\n",
      "\n",
      "Cross_val_Score =  0.8642364984778247\n",
      "\n",
      "\n",
      "roc_auc_score =  0.5250645042510697\n",
      "\n",
      "\n",
      "classification_report\n",
      "               precision    recall  f1-score   support\n",
      "\n",
      "           0       0.63      0.06      0.10      5172\n",
      "           1       0.87      0.99      0.93     32077\n",
      "\n",
      "    accuracy                           0.86     37249\n",
      "   macro avg       0.75      0.53      0.51     37249\n",
      "weighted avg       0.83      0.86      0.81     37249\n",
      "\n",
      "\n",
      "\n",
      "[[  287  4885]\n",
      " [  172 31905]]\n",
      "\n",
      "\n",
      "AxesSubplot(0.125,0.808774;0.62x0.0712264)\n",
      "\n",
      "\n",
      "\n",
      "**************************** DecisionTreeClassifier ********************************\n",
      "\n",
      "\n",
      "DecisionTreeClassifier(random_state=20)\n",
      "\n",
      "\n",
      "Accuracy score =  0.8717549464415152\n",
      "\n",
      "\n",
      "Cross_val_Score =  0.8746583457298369\n",
      "\n",
      "\n",
      "roc_auc_score =  0.740822571393308\n",
      "\n",
      "\n",
      "classification_report\n",
      "               precision    recall  f1-score   support\n",
      "\n",
      "           0       0.54      0.56      0.55      5172\n",
      "           1       0.93      0.92      0.93     32077\n",
      "\n",
      "    accuracy                           0.87     37249\n",
      "   macro avg       0.73      0.74      0.74     37249\n",
      "weighted avg       0.87      0.87      0.87     37249\n",
      "\n",
      "\n",
      "\n",
      "[[ 2894  2278]\n",
      " [ 2499 29578]]\n",
      "\n",
      "\n",
      "AxesSubplot(0.125,0.808774;0.62x0.0712264)\n",
      "\n",
      "\n",
      "\n",
      "**************************** GaussianNB ********************************\n",
      "\n",
      "\n",
      "GaussianNB()\n",
      "\n",
      "\n",
      "Accuracy score =  0.6136272114687643\n",
      "\n",
      "\n",
      "Cross_val_Score =  0.6083770543601099\n",
      "\n",
      "\n",
      "roc_auc_score =  0.717201145874796\n",
      "\n",
      "\n",
      "classification_report\n",
      "               precision    recall  f1-score   support\n",
      "\n",
      "           0       0.25      0.86      0.38      5172\n",
      "           1       0.96      0.57      0.72     32077\n",
      "\n",
      "    accuracy                           0.61     37249\n",
      "   macro avg       0.60      0.72      0.55     37249\n",
      "weighted avg       0.86      0.61      0.67     37249\n",
      "\n",
      "\n",
      "\n",
      "[[ 4451   721]\n",
      " [13671 18406]]\n",
      "\n",
      "\n",
      "AxesSubplot(0.125,0.808774;0.62x0.0712264)\n",
      "\n",
      "\n",
      "\n",
      "**************************** RandomForestClassifier ********************************\n",
      "\n",
      "\n",
      "RandomForestClassifier()\n",
      "\n",
      "\n",
      "Accuracy score =  0.9139574216757497\n",
      "\n",
      "\n",
      "Cross_val_Score =  0.9133819749071703\n",
      "\n",
      "\n",
      "roc_auc_score =  0.7465950340008662\n",
      "\n",
      "\n",
      "classification_report\n",
      "               precision    recall  f1-score   support\n",
      "\n",
      "           0       0.79      0.51      0.62      5172\n",
      "           1       0.93      0.98      0.95     32077\n",
      "\n",
      "    accuracy                           0.91     37249\n",
      "   macro avg       0.86      0.75      0.79     37249\n",
      "weighted avg       0.91      0.91      0.91     37249\n",
      "\n",
      "\n",
      "\n",
      "[[ 2663  2509]\n",
      " [  696 31381]]\n",
      "\n",
      "\n",
      "AxesSubplot(0.125,0.808774;0.62x0.0712264)\n",
      "\n",
      "\n",
      "\n"
     ]
    },
    {
     "data": {
      "image/png": "[encoded data removed]",
      "text/plain": [
       "<Figure size 720x2880 with 3 Axes>"
      ]
     },
     "metadata": {
      "needs_background": "light"
     },
     "output_type": "display_data"
    },
    {
     "data": {
      "image/png": "[encoded data removed]",
      "text/plain": [
       "<Figure size 720x2880 with 3 Axes>"
      ]
     },
     "metadata": {
      "needs_background": "light"
     },
     "output_type": "display_data"
    },
    {
     "data": {
      "image/png": "[encoded data removed]",
      "text/plain": [
       "<Figure size 720x2880 with 3 Axes>"
      ]
     },
     "metadata": {
      "needs_background": "light"
     },
     "output_type": "display_data"
    },
    {
     "data": {
      "image/png": "[encoded data removed]",
      "text/plain": [
       "<Figure size 720x2880 with 3 Axes>"
      ]
     },
     "metadata": {
      "needs_background": "light"
     },
     "output_type": "display_data"
    },
    {
     "data": {
      "image/png": "[encoded data removed]",
      "text/plain": [
       "<Figure size 720x2880 with 3 Axes>"
      ]
     },
     "metadata": {
      "needs_background": "light"
     },
     "output_type": "display_data"
    }
   ],
   "source": [
    "Model=[]\n",
    "score=[]\n",
    "cvs=[]\n",
    "rocscore=[]\n",
    "for name,model in models:\n",
    "    print('****************************',name,'********************************')\n",
    "    print('\\n')\n",
    "    Model.append(name)\n",
    "    model.fit(x_train,y_train.values.ravel())\n",
    "    print(model)\n",
    "    pre=model.predict(x_test)\n",
    "    print('\\n')\n",
    "    AS=accuracy_score(y_test,pre)\n",
    "    print('Accuracy score = ', AS)\n",
    "    score.append(AS*100)\n",
    "    print('\\n')\n",
    "    sc=cross_val_score(model,x,y,cv=10,scoring='accuracy').mean()\n",
    "    print('Cross_val_Score = ', sc)\n",
    "    cvs.append(sc*100)\n",
    "    print('\\n')\n",
    "    false_positive_rate, true_positive_rate, thresholds = roc_curve(y_test,pre)\n",
    "    roc_auc= auc(false_positive_rate, true_positive_rate)\n",
    "    print('roc_auc_score = ',roc_auc)\n",
    "    rocscore.append(roc_auc*100)\n",
    "    print('\\n')\n",
    "    print('classification_report\\n',classification_report(y_test,pre))\n",
    "    print('\\n')\n",
    "    cm=confusion_matrix(y_test,pre)\n",
    "    print(cm)\n",
    "    print('\\n')\n",
    "    plt.figure(figsize=(10,40))\n",
    "    plt.subplot(911)\n",
    "    plt.title(name)\n",
    "    print(sns.heatmap(cm,annot=True))\n",
    "    plt.subplot(912)\n",
    "    plt.title(name)\n",
    "    plt.plot(false_positive_rate, true_positive_rate, label = 'AUC= %0.2f'%roc_auc)\n",
    "    plt.legend(loc='lower right')\n",
    "    plt.ylabel('True Positive Rate')\n",
    "    plt.xlabel('False Positive Rate')\n",
    "    print('\\n\\n')"
   ]
  },
  {
   "cell_type": "code",
   "execution_count": 61,
   "metadata": {},
   "outputs": [
    {
     "data": {
      "text/html": [
       "<div>\n",
       "<style scoped>\n",
       "    .dataframe tbody tr th:only-of-type {\n",
       "        vertical-align: middle;\n",
       "    }\n",
       "\n",
       "    .dataframe tbody tr th {\n",
       "        vertical-align: top;\n",
       "    }\n",
       "\n",
       "    .dataframe thead th {\n",
       "        text-align: right;\n",
       "    }\n",
       "</style>\n",
       "<table border=\"1\" class=\"dataframe\">\n",
       "  <thead>\n",
       "    <tr style=\"text-align: right;\">\n",
       "      <th></th>\n",
       "      <th>Model</th>\n",
       "      <th>Accuracy_score</th>\n",
       "      <th>Cross_val_score</th>\n",
       "      <th>Roc_auc_curve</th>\n",
       "    </tr>\n",
       "  </thead>\n",
       "  <tbody>\n",
       "    <tr>\n",
       "      <th>0</th>\n",
       "      <td>KNeighborsClassifier</td>\n",
       "      <td>86.990255</td>\n",
       "      <td>87.139379</td>\n",
       "      <td>68.671620</td>\n",
       "    </tr>\n",
       "    <tr>\n",
       "      <th>1</th>\n",
       "      <td>LogisticRegression</td>\n",
       "      <td>86.423797</td>\n",
       "      <td>86.423650</td>\n",
       "      <td>52.506450</td>\n",
       "    </tr>\n",
       "    <tr>\n",
       "      <th>2</th>\n",
       "      <td>DecisionTreeClassifier</td>\n",
       "      <td>87.175495</td>\n",
       "      <td>87.465835</td>\n",
       "      <td>74.082257</td>\n",
       "    </tr>\n",
       "    <tr>\n",
       "      <th>3</th>\n",
       "      <td>GaussianNB</td>\n",
       "      <td>61.362721</td>\n",
       "      <td>60.837705</td>\n",
       "      <td>71.720115</td>\n",
       "    </tr>\n",
       "    <tr>\n",
       "      <th>4</th>\n",
       "      <td>RandomForestClassifier</td>\n",
       "      <td>91.395742</td>\n",
       "      <td>91.338197</td>\n",
       "      <td>74.659503</td>\n",
       "    </tr>\n",
       "  </tbody>\n",
       "</table>\n",
       "</div>"
      ],
      "text/plain": [
       "                    Model  Accuracy_score  Cross_val_score  Roc_auc_curve\n",
       "0    KNeighborsClassifier       86.990255        87.139379      68.671620\n",
       "1      LogisticRegression       86.423797        86.423650      52.506450\n",
       "2  DecisionTreeClassifier       87.175495        87.465835      74.082257\n",
       "3              GaussianNB       61.362721        60.837705      71.720115\n",
       "4  RandomForestClassifier       91.395742        91.338197      74.659503"
      ]
     },
     "execution_count": 61,
     "metadata": {},
     "output_type": "execute_result"
    }
   ],
   "source": [
    "result=pd.DataFrame({'Model': Model, 'Accuracy_score': score, 'Cross_val_score':cvs, 'Roc_auc_curve':rocscore})\n",
    "result"
   ]
  },
  {
   "cell_type": "code",
   "execution_count": null,
   "metadata": {},
   "outputs": [],
   "source": []
  },
  {
   "cell_type": "code",
   "execution_count": null,
   "metadata": {},
   "outputs": [],
   "source": []
  },
  {
   "cell_type": "code",
   "execution_count": null,
   "metadata": {},
   "outputs": [],
   "source": []
  },
  {
   "cell_type": "code",
   "execution_count": null,
   "metadata": {},
   "outputs": [],
   "source": []
  }
 ],
 "metadata": {
  "kernelspec": {
   "display_name": "Python 3",
   "language": "python",
   "name": "python3"
  },
  "language_info": {
   "codemirror_mode": {
    "name": "ipython",
    "version": 3
   },
   "file_extension": ".py",
   "mimetype": "text/x-python",
   "name": "python",
   "nbconvert_exporter": "python",
   "pygments_lexer": "ipython3",
   "version": "3.8.8"
  }
 },
 "nbformat": 4,
 "nbformat_minor": 2
}
